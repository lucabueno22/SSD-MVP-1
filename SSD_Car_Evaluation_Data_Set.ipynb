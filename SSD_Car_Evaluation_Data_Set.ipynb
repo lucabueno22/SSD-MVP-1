{
  "nbformat": 4,
  "nbformat_minor": 0,
  "metadata": {
    "colab": {
      "provenance": [],
      "authorship_tag": "ABX9TyNEK1xhvimMPXavyw1JC0J+",
      "include_colab_link": true
    },
    "kernelspec": {
      "name": "python3",
      "display_name": "Python 3"
    },
    "language_info": {
      "name": "python"
    }
  },
  "cells": [
    {
      "cell_type": "markdown",
      "metadata": {
        "id": "view-in-github",
        "colab_type": "text"
      },
      "source": [
        "<a href=\"https://colab.research.google.com/github/lucabueno22/SSD-MVP-1/blob/main/SSD_Car_Evaluation_Data_Set.ipynb\" target=\"_parent\"><img src=\"https://colab.research.google.com/assets/colab-badge.svg\" alt=\"Open In Colab\"/></a>"
      ]
    },
    {
      "cell_type": "code",
      "execution_count": null,
      "metadata": {
        "colab": {
          "base_uri": "https://localhost:8080/"
        },
        "id": "Az6LRxxPqOc-",
        "outputId": "1e6a99d3-947e-4380-fc6e-c27143117e75"
      },
      "outputs": [
        {
          "output_type": "stream",
          "name": "stdout",
          "text": [
            "Downloading from https://www.kaggle.com/api/v1/datasets/download/elikplim/car-evaluation-data-set?dataset_version_number=1...\n"
          ]
        },
        {
          "output_type": "stream",
          "name": "stderr",
          "text": [
            "100%|██████████| 4.66k/4.66k [00:00<00:00, 8.34MB/s]"
          ]
        },
        {
          "output_type": "stream",
          "name": "stdout",
          "text": [
            "Extracting files...\n",
            "Path to dataset files: /root/.cache/kagglehub/datasets/elikplim/car-evaluation-data-set/versions/1\n"
          ]
        },
        {
          "output_type": "stream",
          "name": "stderr",
          "text": [
            "\n"
          ]
        }
      ],
      "source": [
        "import kagglehub\n",
        "\n",
        "# Download latest version\n",
        "path = kagglehub.dataset_download(\"elikplim/car-evaluation-data-set\")\n",
        "\n",
        "print(\"Path to dataset files:\", path)"
      ]
    },
    {
      "cell_type": "markdown",
      "source": [
        "# Classificação de Carros com Aprendizado de Máquina\n",
        "\n",
        "## 1. Introdução\n",
        "\n",
        "Neste projeto, utilizaremos o dataset \"Car Evaluation\", disponível no Kaggle, para desenvolver um MVP (Mínimo Produto Viável) de um sistema de suporte à decisão. O objetivo é classificar a aceitabilidade de veículos com base em atributos técnicos e econômicos, utilizando algoritmos de aprendizado de máquina.\n",
        "\n",
        "## 2. Objetivo\n",
        "\n",
        "O problema abordado é de **classificação multiclasse**, em que a variável-alvo é a \"classificação final\" do carro, podendo assumir os valores: `unacc`, `acc`, `good` e `vgood`.\n",
        "\n",
        "Este MVP incluirá:\n",
        "- Exploração e preparação dos dados;\n",
        "- Codificação de variáveis categóricas;\n",
        "- Divisão entre treino e teste;\n",
        "- Treinamento de modelos;\n",
        "- Avaliação comparativa;\n",
        "- Conclusão com a melhor solução encontrada.\n",
        "\n",
        "## 3. Etapas\n",
        "\n",
        "1. Carregamento da base de dados;\n",
        "2. Análise exploratória e entendimento das variáveis;\n",
        "3. Tratamento dos dados (limpeza, codificação, etc.);\n",
        "4. Modelagem e avaliação;\n",
        "5. Discussão dos resultados e possíveis melhorias."
      ],
      "metadata": {
        "id": "ZRahAk9QIH1u"
      }
    },
    {
      "cell_type": "markdown",
      "source": [
        "## 4. Carregamento da base de dados\n",
        "\n",
        "Nesta etapa, faremos o upload manual do arquivo `car_evaluation.csv` diretamente no Google Colab. Essa é uma maneira prática para conjuntos de dados pequenos, como este, que possui apenas 1.728 registros.\n",
        "\n",
        "Em seguida, carregaremos o arquivo em um DataFrame utilizando a biblioteca `pandas`, e faremos uma inspeção inicial das primeiras linhas do dataset.\n"
      ],
      "metadata": {
        "id": "x5UIDIIoIJim"
      }
    },
    {
      "cell_type": "code",
      "source": [
        "# Importando a biblioteca necessária\n",
        "import pandas as pd\n",
        "\n",
        "# Upload manual do arquivo CSV\n",
        "from google.colab import files\n",
        "uploaded = files.upload()\n",
        "\n",
        "# Carregando o dataset em um DataFrame\n",
        "df = pd.read_csv(\"car_evaluation.csv\")\n",
        "\n",
        "# Visualizando as primeiras linhas\n",
        "df.head()"
      ],
      "metadata": {
        "colab": {
          "base_uri": "https://localhost:8080/",
          "height": 263
        },
        "id": "a0BF6pPcIMkW",
        "outputId": "d4e7b99f-9cf0-4eae-caee-e15c5106d7ad"
      },
      "execution_count": null,
      "outputs": [
        {
          "output_type": "display_data",
          "data": {
            "text/plain": [
              "<IPython.core.display.HTML object>"
            ],
            "text/html": [
              "\n",
              "     <input type=\"file\" id=\"files-fee1aa22-ad73-4f10-8fc9-027ef5759811\" name=\"files[]\" multiple disabled\n",
              "        style=\"border:none\" />\n",
              "     <output id=\"result-fee1aa22-ad73-4f10-8fc9-027ef5759811\">\n",
              "      Upload widget is only available when the cell has been executed in the\n",
              "      current browser session. Please rerun this cell to enable.\n",
              "      </output>\n",
              "      <script>// Copyright 2017 Google LLC\n",
              "//\n",
              "// Licensed under the Apache License, Version 2.0 (the \"License\");\n",
              "// you may not use this file except in compliance with the License.\n",
              "// You may obtain a copy of the License at\n",
              "//\n",
              "//      http://www.apache.org/licenses/LICENSE-2.0\n",
              "//\n",
              "// Unless required by applicable law or agreed to in writing, software\n",
              "// distributed under the License is distributed on an \"AS IS\" BASIS,\n",
              "// WITHOUT WARRANTIES OR CONDITIONS OF ANY KIND, either express or implied.\n",
              "// See the License for the specific language governing permissions and\n",
              "// limitations under the License.\n",
              "\n",
              "/**\n",
              " * @fileoverview Helpers for google.colab Python module.\n",
              " */\n",
              "(function(scope) {\n",
              "function span(text, styleAttributes = {}) {\n",
              "  const element = document.createElement('span');\n",
              "  element.textContent = text;\n",
              "  for (const key of Object.keys(styleAttributes)) {\n",
              "    element.style[key] = styleAttributes[key];\n",
              "  }\n",
              "  return element;\n",
              "}\n",
              "\n",
              "// Max number of bytes which will be uploaded at a time.\n",
              "const MAX_PAYLOAD_SIZE = 100 * 1024;\n",
              "\n",
              "function _uploadFiles(inputId, outputId) {\n",
              "  const steps = uploadFilesStep(inputId, outputId);\n",
              "  const outputElement = document.getElementById(outputId);\n",
              "  // Cache steps on the outputElement to make it available for the next call\n",
              "  // to uploadFilesContinue from Python.\n",
              "  outputElement.steps = steps;\n",
              "\n",
              "  return _uploadFilesContinue(outputId);\n",
              "}\n",
              "\n",
              "// This is roughly an async generator (not supported in the browser yet),\n",
              "// where there are multiple asynchronous steps and the Python side is going\n",
              "// to poll for completion of each step.\n",
              "// This uses a Promise to block the python side on completion of each step,\n",
              "// then passes the result of the previous step as the input to the next step.\n",
              "function _uploadFilesContinue(outputId) {\n",
              "  const outputElement = document.getElementById(outputId);\n",
              "  const steps = outputElement.steps;\n",
              "\n",
              "  const next = steps.next(outputElement.lastPromiseValue);\n",
              "  return Promise.resolve(next.value.promise).then((value) => {\n",
              "    // Cache the last promise value to make it available to the next\n",
              "    // step of the generator.\n",
              "    outputElement.lastPromiseValue = value;\n",
              "    return next.value.response;\n",
              "  });\n",
              "}\n",
              "\n",
              "/**\n",
              " * Generator function which is called between each async step of the upload\n",
              " * process.\n",
              " * @param {string} inputId Element ID of the input file picker element.\n",
              " * @param {string} outputId Element ID of the output display.\n",
              " * @return {!Iterable<!Object>} Iterable of next steps.\n",
              " */\n",
              "function* uploadFilesStep(inputId, outputId) {\n",
              "  const inputElement = document.getElementById(inputId);\n",
              "  inputElement.disabled = false;\n",
              "\n",
              "  const outputElement = document.getElementById(outputId);\n",
              "  outputElement.innerHTML = '';\n",
              "\n",
              "  const pickedPromise = new Promise((resolve) => {\n",
              "    inputElement.addEventListener('change', (e) => {\n",
              "      resolve(e.target.files);\n",
              "    });\n",
              "  });\n",
              "\n",
              "  const cancel = document.createElement('button');\n",
              "  inputElement.parentElement.appendChild(cancel);\n",
              "  cancel.textContent = 'Cancel upload';\n",
              "  const cancelPromise = new Promise((resolve) => {\n",
              "    cancel.onclick = () => {\n",
              "      resolve(null);\n",
              "    };\n",
              "  });\n",
              "\n",
              "  // Wait for the user to pick the files.\n",
              "  const files = yield {\n",
              "    promise: Promise.race([pickedPromise, cancelPromise]),\n",
              "    response: {\n",
              "      action: 'starting',\n",
              "    }\n",
              "  };\n",
              "\n",
              "  cancel.remove();\n",
              "\n",
              "  // Disable the input element since further picks are not allowed.\n",
              "  inputElement.disabled = true;\n",
              "\n",
              "  if (!files) {\n",
              "    return {\n",
              "      response: {\n",
              "        action: 'complete',\n",
              "      }\n",
              "    };\n",
              "  }\n",
              "\n",
              "  for (const file of files) {\n",
              "    const li = document.createElement('li');\n",
              "    li.append(span(file.name, {fontWeight: 'bold'}));\n",
              "    li.append(span(\n",
              "        `(${file.type || 'n/a'}) - ${file.size} bytes, ` +\n",
              "        `last modified: ${\n",
              "            file.lastModifiedDate ? file.lastModifiedDate.toLocaleDateString() :\n",
              "                                    'n/a'} - `));\n",
              "    const percent = span('0% done');\n",
              "    li.appendChild(percent);\n",
              "\n",
              "    outputElement.appendChild(li);\n",
              "\n",
              "    const fileDataPromise = new Promise((resolve) => {\n",
              "      const reader = new FileReader();\n",
              "      reader.onload = (e) => {\n",
              "        resolve(e.target.result);\n",
              "      };\n",
              "      reader.readAsArrayBuffer(file);\n",
              "    });\n",
              "    // Wait for the data to be ready.\n",
              "    let fileData = yield {\n",
              "      promise: fileDataPromise,\n",
              "      response: {\n",
              "        action: 'continue',\n",
              "      }\n",
              "    };\n",
              "\n",
              "    // Use a chunked sending to avoid message size limits. See b/62115660.\n",
              "    let position = 0;\n",
              "    do {\n",
              "      const length = Math.min(fileData.byteLength - position, MAX_PAYLOAD_SIZE);\n",
              "      const chunk = new Uint8Array(fileData, position, length);\n",
              "      position += length;\n",
              "\n",
              "      const base64 = btoa(String.fromCharCode.apply(null, chunk));\n",
              "      yield {\n",
              "        response: {\n",
              "          action: 'append',\n",
              "          file: file.name,\n",
              "          data: base64,\n",
              "        },\n",
              "      };\n",
              "\n",
              "      let percentDone = fileData.byteLength === 0 ?\n",
              "          100 :\n",
              "          Math.round((position / fileData.byteLength) * 100);\n",
              "      percent.textContent = `${percentDone}% done`;\n",
              "\n",
              "    } while (position < fileData.byteLength);\n",
              "  }\n",
              "\n",
              "  // All done.\n",
              "  yield {\n",
              "    response: {\n",
              "      action: 'complete',\n",
              "    }\n",
              "  };\n",
              "}\n",
              "\n",
              "scope.google = scope.google || {};\n",
              "scope.google.colab = scope.google.colab || {};\n",
              "scope.google.colab._files = {\n",
              "  _uploadFiles,\n",
              "  _uploadFilesContinue,\n",
              "};\n",
              "})(self);\n",
              "</script> "
            ]
          },
          "metadata": {}
        },
        {
          "output_type": "stream",
          "name": "stdout",
          "text": [
            "Saving car_evaluation.csv to car_evaluation (1).csv\n"
          ]
        },
        {
          "output_type": "execute_result",
          "data": {
            "text/plain": [
              "   vhigh vhigh.1  2 2.1  small   low  unacc\n",
              "0  vhigh   vhigh  2   2  small   med  unacc\n",
              "1  vhigh   vhigh  2   2  small  high  unacc\n",
              "2  vhigh   vhigh  2   2    med   low  unacc\n",
              "3  vhigh   vhigh  2   2    med   med  unacc\n",
              "4  vhigh   vhigh  2   2    med  high  unacc"
            ],
            "text/html": [
              "\n",
              "  <div id=\"df-fea017bf-ec25-4ccc-8f59-d08f05ba93b7\" class=\"colab-df-container\">\n",
              "    <div>\n",
              "<style scoped>\n",
              "    .dataframe tbody tr th:only-of-type {\n",
              "        vertical-align: middle;\n",
              "    }\n",
              "\n",
              "    .dataframe tbody tr th {\n",
              "        vertical-align: top;\n",
              "    }\n",
              "\n",
              "    .dataframe thead th {\n",
              "        text-align: right;\n",
              "    }\n",
              "</style>\n",
              "<table border=\"1\" class=\"dataframe\">\n",
              "  <thead>\n",
              "    <tr style=\"text-align: right;\">\n",
              "      <th></th>\n",
              "      <th>vhigh</th>\n",
              "      <th>vhigh.1</th>\n",
              "      <th>2</th>\n",
              "      <th>2.1</th>\n",
              "      <th>small</th>\n",
              "      <th>low</th>\n",
              "      <th>unacc</th>\n",
              "    </tr>\n",
              "  </thead>\n",
              "  <tbody>\n",
              "    <tr>\n",
              "      <th>0</th>\n",
              "      <td>vhigh</td>\n",
              "      <td>vhigh</td>\n",
              "      <td>2</td>\n",
              "      <td>2</td>\n",
              "      <td>small</td>\n",
              "      <td>med</td>\n",
              "      <td>unacc</td>\n",
              "    </tr>\n",
              "    <tr>\n",
              "      <th>1</th>\n",
              "      <td>vhigh</td>\n",
              "      <td>vhigh</td>\n",
              "      <td>2</td>\n",
              "      <td>2</td>\n",
              "      <td>small</td>\n",
              "      <td>high</td>\n",
              "      <td>unacc</td>\n",
              "    </tr>\n",
              "    <tr>\n",
              "      <th>2</th>\n",
              "      <td>vhigh</td>\n",
              "      <td>vhigh</td>\n",
              "      <td>2</td>\n",
              "      <td>2</td>\n",
              "      <td>med</td>\n",
              "      <td>low</td>\n",
              "      <td>unacc</td>\n",
              "    </tr>\n",
              "    <tr>\n",
              "      <th>3</th>\n",
              "      <td>vhigh</td>\n",
              "      <td>vhigh</td>\n",
              "      <td>2</td>\n",
              "      <td>2</td>\n",
              "      <td>med</td>\n",
              "      <td>med</td>\n",
              "      <td>unacc</td>\n",
              "    </tr>\n",
              "    <tr>\n",
              "      <th>4</th>\n",
              "      <td>vhigh</td>\n",
              "      <td>vhigh</td>\n",
              "      <td>2</td>\n",
              "      <td>2</td>\n",
              "      <td>med</td>\n",
              "      <td>high</td>\n",
              "      <td>unacc</td>\n",
              "    </tr>\n",
              "  </tbody>\n",
              "</table>\n",
              "</div>\n",
              "    <div class=\"colab-df-buttons\">\n",
              "\n",
              "  <div class=\"colab-df-container\">\n",
              "    <button class=\"colab-df-convert\" onclick=\"convertToInteractive('df-fea017bf-ec25-4ccc-8f59-d08f05ba93b7')\"\n",
              "            title=\"Convert this dataframe to an interactive table.\"\n",
              "            style=\"display:none;\">\n",
              "\n",
              "  <svg xmlns=\"http://www.w3.org/2000/svg\" height=\"24px\" viewBox=\"0 -960 960 960\">\n",
              "    <path d=\"M120-120v-720h720v720H120Zm60-500h600v-160H180v160Zm220 220h160v-160H400v160Zm0 220h160v-160H400v160ZM180-400h160v-160H180v160Zm440 0h160v-160H620v160ZM180-180h160v-160H180v160Zm440 0h160v-160H620v160Z\"/>\n",
              "  </svg>\n",
              "    </button>\n",
              "\n",
              "  <style>\n",
              "    .colab-df-container {\n",
              "      display:flex;\n",
              "      gap: 12px;\n",
              "    }\n",
              "\n",
              "    .colab-df-convert {\n",
              "      background-color: #E8F0FE;\n",
              "      border: none;\n",
              "      border-radius: 50%;\n",
              "      cursor: pointer;\n",
              "      display: none;\n",
              "      fill: #1967D2;\n",
              "      height: 32px;\n",
              "      padding: 0 0 0 0;\n",
              "      width: 32px;\n",
              "    }\n",
              "\n",
              "    .colab-df-convert:hover {\n",
              "      background-color: #E2EBFA;\n",
              "      box-shadow: 0px 1px 2px rgba(60, 64, 67, 0.3), 0px 1px 3px 1px rgba(60, 64, 67, 0.15);\n",
              "      fill: #174EA6;\n",
              "    }\n",
              "\n",
              "    .colab-df-buttons div {\n",
              "      margin-bottom: 4px;\n",
              "    }\n",
              "\n",
              "    [theme=dark] .colab-df-convert {\n",
              "      background-color: #3B4455;\n",
              "      fill: #D2E3FC;\n",
              "    }\n",
              "\n",
              "    [theme=dark] .colab-df-convert:hover {\n",
              "      background-color: #434B5C;\n",
              "      box-shadow: 0px 1px 3px 1px rgba(0, 0, 0, 0.15);\n",
              "      filter: drop-shadow(0px 1px 2px rgba(0, 0, 0, 0.3));\n",
              "      fill: #FFFFFF;\n",
              "    }\n",
              "  </style>\n",
              "\n",
              "    <script>\n",
              "      const buttonEl =\n",
              "        document.querySelector('#df-fea017bf-ec25-4ccc-8f59-d08f05ba93b7 button.colab-df-convert');\n",
              "      buttonEl.style.display =\n",
              "        google.colab.kernel.accessAllowed ? 'block' : 'none';\n",
              "\n",
              "      async function convertToInteractive(key) {\n",
              "        const element = document.querySelector('#df-fea017bf-ec25-4ccc-8f59-d08f05ba93b7');\n",
              "        const dataTable =\n",
              "          await google.colab.kernel.invokeFunction('convertToInteractive',\n",
              "                                                    [key], {});\n",
              "        if (!dataTable) return;\n",
              "\n",
              "        const docLinkHtml = 'Like what you see? Visit the ' +\n",
              "          '<a target=\"_blank\" href=https://colab.research.google.com/notebooks/data_table.ipynb>data table notebook</a>'\n",
              "          + ' to learn more about interactive tables.';\n",
              "        element.innerHTML = '';\n",
              "        dataTable['output_type'] = 'display_data';\n",
              "        await google.colab.output.renderOutput(dataTable, element);\n",
              "        const docLink = document.createElement('div');\n",
              "        docLink.innerHTML = docLinkHtml;\n",
              "        element.appendChild(docLink);\n",
              "      }\n",
              "    </script>\n",
              "  </div>\n",
              "\n",
              "\n",
              "    <div id=\"df-f3625be1-c6bd-4600-b55a-06e0fa74bf81\">\n",
              "      <button class=\"colab-df-quickchart\" onclick=\"quickchart('df-f3625be1-c6bd-4600-b55a-06e0fa74bf81')\"\n",
              "                title=\"Suggest charts\"\n",
              "                style=\"display:none;\">\n",
              "\n",
              "<svg xmlns=\"http://www.w3.org/2000/svg\" height=\"24px\"viewBox=\"0 0 24 24\"\n",
              "     width=\"24px\">\n",
              "    <g>\n",
              "        <path d=\"M19 3H5c-1.1 0-2 .9-2 2v14c0 1.1.9 2 2 2h14c1.1 0 2-.9 2-2V5c0-1.1-.9-2-2-2zM9 17H7v-7h2v7zm4 0h-2V7h2v10zm4 0h-2v-4h2v4z\"/>\n",
              "    </g>\n",
              "</svg>\n",
              "      </button>\n",
              "\n",
              "<style>\n",
              "  .colab-df-quickchart {\n",
              "      --bg-color: #E8F0FE;\n",
              "      --fill-color: #1967D2;\n",
              "      --hover-bg-color: #E2EBFA;\n",
              "      --hover-fill-color: #174EA6;\n",
              "      --disabled-fill-color: #AAA;\n",
              "      --disabled-bg-color: #DDD;\n",
              "  }\n",
              "\n",
              "  [theme=dark] .colab-df-quickchart {\n",
              "      --bg-color: #3B4455;\n",
              "      --fill-color: #D2E3FC;\n",
              "      --hover-bg-color: #434B5C;\n",
              "      --hover-fill-color: #FFFFFF;\n",
              "      --disabled-bg-color: #3B4455;\n",
              "      --disabled-fill-color: #666;\n",
              "  }\n",
              "\n",
              "  .colab-df-quickchart {\n",
              "    background-color: var(--bg-color);\n",
              "    border: none;\n",
              "    border-radius: 50%;\n",
              "    cursor: pointer;\n",
              "    display: none;\n",
              "    fill: var(--fill-color);\n",
              "    height: 32px;\n",
              "    padding: 0;\n",
              "    width: 32px;\n",
              "  }\n",
              "\n",
              "  .colab-df-quickchart:hover {\n",
              "    background-color: var(--hover-bg-color);\n",
              "    box-shadow: 0 1px 2px rgba(60, 64, 67, 0.3), 0 1px 3px 1px rgba(60, 64, 67, 0.15);\n",
              "    fill: var(--button-hover-fill-color);\n",
              "  }\n",
              "\n",
              "  .colab-df-quickchart-complete:disabled,\n",
              "  .colab-df-quickchart-complete:disabled:hover {\n",
              "    background-color: var(--disabled-bg-color);\n",
              "    fill: var(--disabled-fill-color);\n",
              "    box-shadow: none;\n",
              "  }\n",
              "\n",
              "  .colab-df-spinner {\n",
              "    border: 2px solid var(--fill-color);\n",
              "    border-color: transparent;\n",
              "    border-bottom-color: var(--fill-color);\n",
              "    animation:\n",
              "      spin 1s steps(1) infinite;\n",
              "  }\n",
              "\n",
              "  @keyframes spin {\n",
              "    0% {\n",
              "      border-color: transparent;\n",
              "      border-bottom-color: var(--fill-color);\n",
              "      border-left-color: var(--fill-color);\n",
              "    }\n",
              "    20% {\n",
              "      border-color: transparent;\n",
              "      border-left-color: var(--fill-color);\n",
              "      border-top-color: var(--fill-color);\n",
              "    }\n",
              "    30% {\n",
              "      border-color: transparent;\n",
              "      border-left-color: var(--fill-color);\n",
              "      border-top-color: var(--fill-color);\n",
              "      border-right-color: var(--fill-color);\n",
              "    }\n",
              "    40% {\n",
              "      border-color: transparent;\n",
              "      border-right-color: var(--fill-color);\n",
              "      border-top-color: var(--fill-color);\n",
              "    }\n",
              "    60% {\n",
              "      border-color: transparent;\n",
              "      border-right-color: var(--fill-color);\n",
              "    }\n",
              "    80% {\n",
              "      border-color: transparent;\n",
              "      border-right-color: var(--fill-color);\n",
              "      border-bottom-color: var(--fill-color);\n",
              "    }\n",
              "    90% {\n",
              "      border-color: transparent;\n",
              "      border-bottom-color: var(--fill-color);\n",
              "    }\n",
              "  }\n",
              "</style>\n",
              "\n",
              "      <script>\n",
              "        async function quickchart(key) {\n",
              "          const quickchartButtonEl =\n",
              "            document.querySelector('#' + key + ' button');\n",
              "          quickchartButtonEl.disabled = true;  // To prevent multiple clicks.\n",
              "          quickchartButtonEl.classList.add('colab-df-spinner');\n",
              "          try {\n",
              "            const charts = await google.colab.kernel.invokeFunction(\n",
              "                'suggestCharts', [key], {});\n",
              "          } catch (error) {\n",
              "            console.error('Error during call to suggestCharts:', error);\n",
              "          }\n",
              "          quickchartButtonEl.classList.remove('colab-df-spinner');\n",
              "          quickchartButtonEl.classList.add('colab-df-quickchart-complete');\n",
              "        }\n",
              "        (() => {\n",
              "          let quickchartButtonEl =\n",
              "            document.querySelector('#df-f3625be1-c6bd-4600-b55a-06e0fa74bf81 button');\n",
              "          quickchartButtonEl.style.display =\n",
              "            google.colab.kernel.accessAllowed ? 'block' : 'none';\n",
              "        })();\n",
              "      </script>\n",
              "    </div>\n",
              "\n",
              "    </div>\n",
              "  </div>\n"
            ],
            "application/vnd.google.colaboratory.intrinsic+json": {
              "type": "dataframe",
              "variable_name": "df",
              "summary": "{\n  \"name\": \"df\",\n  \"rows\": 1727,\n  \"fields\": [\n    {\n      \"column\": \"vhigh\",\n      \"properties\": {\n        \"dtype\": \"category\",\n        \"num_unique_values\": 4,\n        \"samples\": [\n          \"high\",\n          \"low\",\n          \"vhigh\"\n        ],\n        \"semantic_type\": \"\",\n        \"description\": \"\"\n      }\n    },\n    {\n      \"column\": \"vhigh.1\",\n      \"properties\": {\n        \"dtype\": \"category\",\n        \"num_unique_values\": 4,\n        \"samples\": [\n          \"high\",\n          \"low\",\n          \"vhigh\"\n        ],\n        \"semantic_type\": \"\",\n        \"description\": \"\"\n      }\n    },\n    {\n      \"column\": \"2\",\n      \"properties\": {\n        \"dtype\": \"category\",\n        \"num_unique_values\": 4,\n        \"samples\": [\n          \"3\",\n          \"5more\",\n          \"2\"\n        ],\n        \"semantic_type\": \"\",\n        \"description\": \"\"\n      }\n    },\n    {\n      \"column\": \"2.1\",\n      \"properties\": {\n        \"dtype\": \"category\",\n        \"num_unique_values\": 3,\n        \"samples\": [\n          \"2\",\n          \"4\",\n          \"more\"\n        ],\n        \"semantic_type\": \"\",\n        \"description\": \"\"\n      }\n    },\n    {\n      \"column\": \"small\",\n      \"properties\": {\n        \"dtype\": \"category\",\n        \"num_unique_values\": 3,\n        \"samples\": [\n          \"small\",\n          \"med\",\n          \"big\"\n        ],\n        \"semantic_type\": \"\",\n        \"description\": \"\"\n      }\n    },\n    {\n      \"column\": \"low\",\n      \"properties\": {\n        \"dtype\": \"category\",\n        \"num_unique_values\": 3,\n        \"samples\": [\n          \"med\",\n          \"high\",\n          \"low\"\n        ],\n        \"semantic_type\": \"\",\n        \"description\": \"\"\n      }\n    },\n    {\n      \"column\": \"unacc\",\n      \"properties\": {\n        \"dtype\": \"category\",\n        \"num_unique_values\": 4,\n        \"samples\": [\n          \"acc\",\n          \"good\",\n          \"unacc\"\n        ],\n        \"semantic_type\": \"\",\n        \"description\": \"\"\n      }\n    }\n  ]\n}"
            }
          },
          "metadata": {},
          "execution_count": 2
        }
      ]
    },
    {
      "cell_type": "code",
      "source": [],
      "metadata": {
        "id": "7-gxILC0IQQy"
      },
      "execution_count": null,
      "outputs": []
    },
    {
      "cell_type": "markdown",
      "source": [
        "## 5. Inspeção inicial dos dados\n",
        "\n",
        "Nesta etapa, vamos verificar informações gerais da base, como:\n",
        "- Quantidade de colunas e tipos de dados;\n",
        "- Presença de valores nulos;\n",
        "- Dimensão do conjunto de dados;\n",
        "- Visualização das variáveis e seus valores únicos.\n",
        "\n",
        "Essas informações são importantes para orientar as próximas etapas de preparação e modelagem."
      ],
      "metadata": {
        "id": "SmaO0R0ZIvmz"
      }
    },
    {
      "cell_type": "code",
      "source": [
        "# Informações básicas sobre as colunas e tipos\n",
        "df.info()\n",
        "\n",
        "# Verificando se há valores nulos\n",
        "print(\"\\nValores nulos por coluna:\")\n",
        "print(df.isnull().sum())\n",
        "\n",
        "# Dimensões do dataset\n",
        "print(f\"\\nDimensões: {df.shape[0]} linhas e {df.shape[1]} colunas\")\n",
        "\n",
        "# Listando valores únicos de cada coluna\n",
        "print(\"\\nValores únicos por coluna:\")\n",
        "for col in df.columns:\n",
        "    print(f\"{col}: {df[col].unique()}\")"
      ],
      "metadata": {
        "colab": {
          "base_uri": "https://localhost:8080/"
        },
        "id": "bq42KgWYIwSo",
        "outputId": "f4f5b15b-0214-44f0-b575-9a8665bda6c5"
      },
      "execution_count": null,
      "outputs": [
        {
          "output_type": "stream",
          "name": "stdout",
          "text": [
            "<class 'pandas.core.frame.DataFrame'>\n",
            "RangeIndex: 1727 entries, 0 to 1726\n",
            "Data columns (total 7 columns):\n",
            " #   Column   Non-Null Count  Dtype \n",
            "---  ------   --------------  ----- \n",
            " 0   vhigh    1727 non-null   object\n",
            " 1   vhigh.1  1727 non-null   object\n",
            " 2   2        1727 non-null   object\n",
            " 3   2.1      1727 non-null   object\n",
            " 4   small    1727 non-null   object\n",
            " 5   low      1727 non-null   object\n",
            " 6   unacc    1727 non-null   object\n",
            "dtypes: object(7)\n",
            "memory usage: 94.6+ KB\n",
            "\n",
            "Valores nulos por coluna:\n",
            "vhigh      0\n",
            "vhigh.1    0\n",
            "2          0\n",
            "2.1        0\n",
            "small      0\n",
            "low        0\n",
            "unacc      0\n",
            "dtype: int64\n",
            "\n",
            "Dimensões: 1727 linhas e 7 colunas\n",
            "\n",
            "Valores únicos por coluna:\n",
            "vhigh: ['vhigh' 'high' 'med' 'low']\n",
            "vhigh.1: ['vhigh' 'high' 'med' 'low']\n",
            "2: ['2' '3' '4' '5more']\n",
            "2.1: ['2' '4' 'more']\n",
            "small: ['small' 'med' 'big']\n",
            "low: ['med' 'high' 'low']\n",
            "unacc: ['unacc' 'acc' 'vgood' 'good']\n"
          ]
        }
      ]
    },
    {
      "cell_type": "code",
      "source": [],
      "metadata": {
        "id": "Fczy5EfyIzbZ"
      },
      "execution_count": null,
      "outputs": []
    },
    {
      "cell_type": "markdown",
      "source": [
        "## 6. Preparação dos Dados\n",
        "\n",
        "Nesta etapa, faremos o pré-processamento do dataset, que inclui:\n",
        "\n",
        "- Codificação de variáveis categóricas para formato numérico;\n",
        "- Separação dos dados entre treino e teste;\n",
        "- Avaliação da necessidade de validação cruzada;\n",
        "- Aplicação (ou não) de normalização/padronização dos dados.\n",
        "\n",
        "A correta preparação dos dados é essencial para que os algoritmos de aprendizado de máquina possam interpretar e aprender padrões de forma eficiente."
      ],
      "metadata": {
        "id": "JAA9mbuPKMSV"
      }
    },
    {
      "cell_type": "code",
      "source": [],
      "metadata": {
        "id": "ifk_aQ-IKMlX"
      },
      "execution_count": null,
      "outputs": []
    },
    {
      "cell_type": "markdown",
      "source": [
        "### 6.1 Codificação das variáveis categóricas\n",
        "\n",
        "Todas as variáveis do dataset \"Car Evaluation\" são categóricas, o que exige sua conversão para valores numéricos antes do treinamento dos modelos.\n",
        "\n",
        "Como as categorias possuem **caráter ordinal** (por exemplo, `low < med < high < vhigh`), optaremos pelo uso do `LabelEncoder`, que mantém a relação de ordem entre as categorias.\n",
        "\n"
      ],
      "metadata": {
        "id": "ne4NYf87KOMv"
      }
    },
    {
      "cell_type": "code",
      "source": [
        "from sklearn.preprocessing import LabelEncoder\n",
        "\n",
        "# Criando uma cópia do DataFrame original\n",
        "df_encoded = df.copy()\n",
        "\n",
        "# Dicionário para armazenar os encoders (caso precise decodificar depois)\n",
        "encoders = {}\n",
        "\n",
        "# Aplicando LabelEncoder em todas as colunas\n",
        "for col in df_encoded.columns:\n",
        "    le = LabelEncoder()\n",
        "    df_encoded[col] = le.fit_transform(df_encoded[col])\n",
        "    encoders[col] = le  # Salva o encoder para uso posterior\n",
        "\n",
        "# Visualizando o DataFrame já codificado\n",
        "df_encoded.head()"
      ],
      "metadata": {
        "colab": {
          "base_uri": "https://localhost:8080/",
          "height": 206
        },
        "id": "0e_-M1_5KQCn",
        "outputId": "bce5fad7-d0a1-4796-9a44-1f078db4da3b"
      },
      "execution_count": null,
      "outputs": [
        {
          "output_type": "execute_result",
          "data": {
            "text/plain": [
              "   vhigh  vhigh.1  2  2.1  small  low  unacc\n",
              "0      3        3  0    0      2    2      2\n",
              "1      3        3  0    0      2    0      2\n",
              "2      3        3  0    0      1    1      2\n",
              "3      3        3  0    0      1    2      2\n",
              "4      3        3  0    0      1    0      2"
            ],
            "text/html": [
              "\n",
              "  <div id=\"df-e49983a3-2784-402c-9427-0c116a7e359c\" class=\"colab-df-container\">\n",
              "    <div>\n",
              "<style scoped>\n",
              "    .dataframe tbody tr th:only-of-type {\n",
              "        vertical-align: middle;\n",
              "    }\n",
              "\n",
              "    .dataframe tbody tr th {\n",
              "        vertical-align: top;\n",
              "    }\n",
              "\n",
              "    .dataframe thead th {\n",
              "        text-align: right;\n",
              "    }\n",
              "</style>\n",
              "<table border=\"1\" class=\"dataframe\">\n",
              "  <thead>\n",
              "    <tr style=\"text-align: right;\">\n",
              "      <th></th>\n",
              "      <th>vhigh</th>\n",
              "      <th>vhigh.1</th>\n",
              "      <th>2</th>\n",
              "      <th>2.1</th>\n",
              "      <th>small</th>\n",
              "      <th>low</th>\n",
              "      <th>unacc</th>\n",
              "    </tr>\n",
              "  </thead>\n",
              "  <tbody>\n",
              "    <tr>\n",
              "      <th>0</th>\n",
              "      <td>3</td>\n",
              "      <td>3</td>\n",
              "      <td>0</td>\n",
              "      <td>0</td>\n",
              "      <td>2</td>\n",
              "      <td>2</td>\n",
              "      <td>2</td>\n",
              "    </tr>\n",
              "    <tr>\n",
              "      <th>1</th>\n",
              "      <td>3</td>\n",
              "      <td>3</td>\n",
              "      <td>0</td>\n",
              "      <td>0</td>\n",
              "      <td>2</td>\n",
              "      <td>0</td>\n",
              "      <td>2</td>\n",
              "    </tr>\n",
              "    <tr>\n",
              "      <th>2</th>\n",
              "      <td>3</td>\n",
              "      <td>3</td>\n",
              "      <td>0</td>\n",
              "      <td>0</td>\n",
              "      <td>1</td>\n",
              "      <td>1</td>\n",
              "      <td>2</td>\n",
              "    </tr>\n",
              "    <tr>\n",
              "      <th>3</th>\n",
              "      <td>3</td>\n",
              "      <td>3</td>\n",
              "      <td>0</td>\n",
              "      <td>0</td>\n",
              "      <td>1</td>\n",
              "      <td>2</td>\n",
              "      <td>2</td>\n",
              "    </tr>\n",
              "    <tr>\n",
              "      <th>4</th>\n",
              "      <td>3</td>\n",
              "      <td>3</td>\n",
              "      <td>0</td>\n",
              "      <td>0</td>\n",
              "      <td>1</td>\n",
              "      <td>0</td>\n",
              "      <td>2</td>\n",
              "    </tr>\n",
              "  </tbody>\n",
              "</table>\n",
              "</div>\n",
              "    <div class=\"colab-df-buttons\">\n",
              "\n",
              "  <div class=\"colab-df-container\">\n",
              "    <button class=\"colab-df-convert\" onclick=\"convertToInteractive('df-e49983a3-2784-402c-9427-0c116a7e359c')\"\n",
              "            title=\"Convert this dataframe to an interactive table.\"\n",
              "            style=\"display:none;\">\n",
              "\n",
              "  <svg xmlns=\"http://www.w3.org/2000/svg\" height=\"24px\" viewBox=\"0 -960 960 960\">\n",
              "    <path d=\"M120-120v-720h720v720H120Zm60-500h600v-160H180v160Zm220 220h160v-160H400v160Zm0 220h160v-160H400v160ZM180-400h160v-160H180v160Zm440 0h160v-160H620v160ZM180-180h160v-160H180v160Zm440 0h160v-160H620v160Z\"/>\n",
              "  </svg>\n",
              "    </button>\n",
              "\n",
              "  <style>\n",
              "    .colab-df-container {\n",
              "      display:flex;\n",
              "      gap: 12px;\n",
              "    }\n",
              "\n",
              "    .colab-df-convert {\n",
              "      background-color: #E8F0FE;\n",
              "      border: none;\n",
              "      border-radius: 50%;\n",
              "      cursor: pointer;\n",
              "      display: none;\n",
              "      fill: #1967D2;\n",
              "      height: 32px;\n",
              "      padding: 0 0 0 0;\n",
              "      width: 32px;\n",
              "    }\n",
              "\n",
              "    .colab-df-convert:hover {\n",
              "      background-color: #E2EBFA;\n",
              "      box-shadow: 0px 1px 2px rgba(60, 64, 67, 0.3), 0px 1px 3px 1px rgba(60, 64, 67, 0.15);\n",
              "      fill: #174EA6;\n",
              "    }\n",
              "\n",
              "    .colab-df-buttons div {\n",
              "      margin-bottom: 4px;\n",
              "    }\n",
              "\n",
              "    [theme=dark] .colab-df-convert {\n",
              "      background-color: #3B4455;\n",
              "      fill: #D2E3FC;\n",
              "    }\n",
              "\n",
              "    [theme=dark] .colab-df-convert:hover {\n",
              "      background-color: #434B5C;\n",
              "      box-shadow: 0px 1px 3px 1px rgba(0, 0, 0, 0.15);\n",
              "      filter: drop-shadow(0px 1px 2px rgba(0, 0, 0, 0.3));\n",
              "      fill: #FFFFFF;\n",
              "    }\n",
              "  </style>\n",
              "\n",
              "    <script>\n",
              "      const buttonEl =\n",
              "        document.querySelector('#df-e49983a3-2784-402c-9427-0c116a7e359c button.colab-df-convert');\n",
              "      buttonEl.style.display =\n",
              "        google.colab.kernel.accessAllowed ? 'block' : 'none';\n",
              "\n",
              "      async function convertToInteractive(key) {\n",
              "        const element = document.querySelector('#df-e49983a3-2784-402c-9427-0c116a7e359c');\n",
              "        const dataTable =\n",
              "          await google.colab.kernel.invokeFunction('convertToInteractive',\n",
              "                                                    [key], {});\n",
              "        if (!dataTable) return;\n",
              "\n",
              "        const docLinkHtml = 'Like what you see? Visit the ' +\n",
              "          '<a target=\"_blank\" href=https://colab.research.google.com/notebooks/data_table.ipynb>data table notebook</a>'\n",
              "          + ' to learn more about interactive tables.';\n",
              "        element.innerHTML = '';\n",
              "        dataTable['output_type'] = 'display_data';\n",
              "        await google.colab.output.renderOutput(dataTable, element);\n",
              "        const docLink = document.createElement('div');\n",
              "        docLink.innerHTML = docLinkHtml;\n",
              "        element.appendChild(docLink);\n",
              "      }\n",
              "    </script>\n",
              "  </div>\n",
              "\n",
              "\n",
              "    <div id=\"df-4b3b1b56-7db5-4a3c-8576-3ef7c07ec9aa\">\n",
              "      <button class=\"colab-df-quickchart\" onclick=\"quickchart('df-4b3b1b56-7db5-4a3c-8576-3ef7c07ec9aa')\"\n",
              "                title=\"Suggest charts\"\n",
              "                style=\"display:none;\">\n",
              "\n",
              "<svg xmlns=\"http://www.w3.org/2000/svg\" height=\"24px\"viewBox=\"0 0 24 24\"\n",
              "     width=\"24px\">\n",
              "    <g>\n",
              "        <path d=\"M19 3H5c-1.1 0-2 .9-2 2v14c0 1.1.9 2 2 2h14c1.1 0 2-.9 2-2V5c0-1.1-.9-2-2-2zM9 17H7v-7h2v7zm4 0h-2V7h2v10zm4 0h-2v-4h2v4z\"/>\n",
              "    </g>\n",
              "</svg>\n",
              "      </button>\n",
              "\n",
              "<style>\n",
              "  .colab-df-quickchart {\n",
              "      --bg-color: #E8F0FE;\n",
              "      --fill-color: #1967D2;\n",
              "      --hover-bg-color: #E2EBFA;\n",
              "      --hover-fill-color: #174EA6;\n",
              "      --disabled-fill-color: #AAA;\n",
              "      --disabled-bg-color: #DDD;\n",
              "  }\n",
              "\n",
              "  [theme=dark] .colab-df-quickchart {\n",
              "      --bg-color: #3B4455;\n",
              "      --fill-color: #D2E3FC;\n",
              "      --hover-bg-color: #434B5C;\n",
              "      --hover-fill-color: #FFFFFF;\n",
              "      --disabled-bg-color: #3B4455;\n",
              "      --disabled-fill-color: #666;\n",
              "  }\n",
              "\n",
              "  .colab-df-quickchart {\n",
              "    background-color: var(--bg-color);\n",
              "    border: none;\n",
              "    border-radius: 50%;\n",
              "    cursor: pointer;\n",
              "    display: none;\n",
              "    fill: var(--fill-color);\n",
              "    height: 32px;\n",
              "    padding: 0;\n",
              "    width: 32px;\n",
              "  }\n",
              "\n",
              "  .colab-df-quickchart:hover {\n",
              "    background-color: var(--hover-bg-color);\n",
              "    box-shadow: 0 1px 2px rgba(60, 64, 67, 0.3), 0 1px 3px 1px rgba(60, 64, 67, 0.15);\n",
              "    fill: var(--button-hover-fill-color);\n",
              "  }\n",
              "\n",
              "  .colab-df-quickchart-complete:disabled,\n",
              "  .colab-df-quickchart-complete:disabled:hover {\n",
              "    background-color: var(--disabled-bg-color);\n",
              "    fill: var(--disabled-fill-color);\n",
              "    box-shadow: none;\n",
              "  }\n",
              "\n",
              "  .colab-df-spinner {\n",
              "    border: 2px solid var(--fill-color);\n",
              "    border-color: transparent;\n",
              "    border-bottom-color: var(--fill-color);\n",
              "    animation:\n",
              "      spin 1s steps(1) infinite;\n",
              "  }\n",
              "\n",
              "  @keyframes spin {\n",
              "    0% {\n",
              "      border-color: transparent;\n",
              "      border-bottom-color: var(--fill-color);\n",
              "      border-left-color: var(--fill-color);\n",
              "    }\n",
              "    20% {\n",
              "      border-color: transparent;\n",
              "      border-left-color: var(--fill-color);\n",
              "      border-top-color: var(--fill-color);\n",
              "    }\n",
              "    30% {\n",
              "      border-color: transparent;\n",
              "      border-left-color: var(--fill-color);\n",
              "      border-top-color: var(--fill-color);\n",
              "      border-right-color: var(--fill-color);\n",
              "    }\n",
              "    40% {\n",
              "      border-color: transparent;\n",
              "      border-right-color: var(--fill-color);\n",
              "      border-top-color: var(--fill-color);\n",
              "    }\n",
              "    60% {\n",
              "      border-color: transparent;\n",
              "      border-right-color: var(--fill-color);\n",
              "    }\n",
              "    80% {\n",
              "      border-color: transparent;\n",
              "      border-right-color: var(--fill-color);\n",
              "      border-bottom-color: var(--fill-color);\n",
              "    }\n",
              "    90% {\n",
              "      border-color: transparent;\n",
              "      border-bottom-color: var(--fill-color);\n",
              "    }\n",
              "  }\n",
              "</style>\n",
              "\n",
              "      <script>\n",
              "        async function quickchart(key) {\n",
              "          const quickchartButtonEl =\n",
              "            document.querySelector('#' + key + ' button');\n",
              "          quickchartButtonEl.disabled = true;  // To prevent multiple clicks.\n",
              "          quickchartButtonEl.classList.add('colab-df-spinner');\n",
              "          try {\n",
              "            const charts = await google.colab.kernel.invokeFunction(\n",
              "                'suggestCharts', [key], {});\n",
              "          } catch (error) {\n",
              "            console.error('Error during call to suggestCharts:', error);\n",
              "          }\n",
              "          quickchartButtonEl.classList.remove('colab-df-spinner');\n",
              "          quickchartButtonEl.classList.add('colab-df-quickchart-complete');\n",
              "        }\n",
              "        (() => {\n",
              "          let quickchartButtonEl =\n",
              "            document.querySelector('#df-4b3b1b56-7db5-4a3c-8576-3ef7c07ec9aa button');\n",
              "          quickchartButtonEl.style.display =\n",
              "            google.colab.kernel.accessAllowed ? 'block' : 'none';\n",
              "        })();\n",
              "      </script>\n",
              "    </div>\n",
              "\n",
              "    </div>\n",
              "  </div>\n"
            ],
            "application/vnd.google.colaboratory.intrinsic+json": {
              "type": "dataframe",
              "variable_name": "df_encoded",
              "summary": "{\n  \"name\": \"df_encoded\",\n  \"rows\": 1727,\n  \"fields\": [\n    {\n      \"column\": \"vhigh\",\n      \"properties\": {\n        \"dtype\": \"number\",\n        \"std\": 1,\n        \"min\": 0,\n        \"max\": 3,\n        \"num_unique_values\": 4,\n        \"samples\": [\n          0,\n          1,\n          3\n        ],\n        \"semantic_type\": \"\",\n        \"description\": \"\"\n      }\n    },\n    {\n      \"column\": \"vhigh.1\",\n      \"properties\": {\n        \"dtype\": \"number\",\n        \"std\": 1,\n        \"min\": 0,\n        \"max\": 3,\n        \"num_unique_values\": 4,\n        \"samples\": [\n          0,\n          1,\n          3\n        ],\n        \"semantic_type\": \"\",\n        \"description\": \"\"\n      }\n    },\n    {\n      \"column\": \"2\",\n      \"properties\": {\n        \"dtype\": \"number\",\n        \"std\": 1,\n        \"min\": 0,\n        \"max\": 3,\n        \"num_unique_values\": 4,\n        \"samples\": [\n          1,\n          3,\n          0\n        ],\n        \"semantic_type\": \"\",\n        \"description\": \"\"\n      }\n    },\n    {\n      \"column\": \"2.1\",\n      \"properties\": {\n        \"dtype\": \"number\",\n        \"std\": 0,\n        \"min\": 0,\n        \"max\": 2,\n        \"num_unique_values\": 3,\n        \"samples\": [\n          0,\n          1,\n          2\n        ],\n        \"semantic_type\": \"\",\n        \"description\": \"\"\n      }\n    },\n    {\n      \"column\": \"small\",\n      \"properties\": {\n        \"dtype\": \"number\",\n        \"std\": 0,\n        \"min\": 0,\n        \"max\": 2,\n        \"num_unique_values\": 3,\n        \"samples\": [\n          2,\n          1,\n          0\n        ],\n        \"semantic_type\": \"\",\n        \"description\": \"\"\n      }\n    },\n    {\n      \"column\": \"low\",\n      \"properties\": {\n        \"dtype\": \"number\",\n        \"std\": 0,\n        \"min\": 0,\n        \"max\": 2,\n        \"num_unique_values\": 3,\n        \"samples\": [\n          2,\n          0,\n          1\n        ],\n        \"semantic_type\": \"\",\n        \"description\": \"\"\n      }\n    },\n    {\n      \"column\": \"unacc\",\n      \"properties\": {\n        \"dtype\": \"number\",\n        \"std\": 0,\n        \"min\": 0,\n        \"max\": 3,\n        \"num_unique_values\": 4,\n        \"samples\": [\n          0,\n          1,\n          2\n        ],\n        \"semantic_type\": \"\",\n        \"description\": \"\"\n      }\n    }\n  ]\n}"
            }
          },
          "metadata": {},
          "execution_count": 9
        }
      ]
    },
    {
      "cell_type": "code",
      "source": [],
      "metadata": {
        "id": "a4VBthS1KvFd"
      },
      "execution_count": null,
      "outputs": []
    },
    {
      "cell_type": "markdown",
      "source": [
        "### 6.2 Separação dos dados em treino e teste\n",
        "\n",
        "A seguir, vamos separar o dataset em duas partes:\n",
        "\n",
        "- **Treinamento (80%)**: usado para treinar e ajustar os modelos.\n",
        "- **Teste (20%)**: usado apenas para avaliar o desempenho final do modelo em dados \"não vistos\".\n",
        "\n",
        "Como o problema é de **classificação multiclasse**, usaremos a estratégia `stratify` para manter a proporção das classes da variável alvo."
      ],
      "metadata": {
        "id": "T0kA2ZwWKxI8"
      }
    },
    {
      "cell_type": "code",
      "source": [
        "# Mostra todas as colunas do DataFrame\n",
        "print(df_encoded.columns.tolist())"
      ],
      "metadata": {
        "colab": {
          "base_uri": "https://localhost:8080/"
        },
        "id": "6lFTp8kyKxbr",
        "outputId": "b5882263-67cc-4d6e-b66b-228114001d7d"
      },
      "execution_count": null,
      "outputs": [
        {
          "output_type": "stream",
          "name": "stdout",
          "text": [
            "['vhigh', 'vhigh.1', '2', '2.1', 'small', 'low', 'unacc']\n"
          ]
        }
      ]
    },
    {
      "cell_type": "code",
      "source": [
        "# Recarregando o dataset sem considerar a primeira linha como cabeçalho\n",
        "df = pd.read_csv(\"car_evaluation.csv\", header=None)"
      ],
      "metadata": {
        "id": "6OU31ZMoKyqg"
      },
      "execution_count": null,
      "outputs": []
    },
    {
      "cell_type": "code",
      "source": [
        "# Atribuindo nomes apropriados às colunas\n",
        "df.columns = [\"buying\", \"maint\", \"doors\", \"persons\", \"lug_boot\", \"safety\", \"class\"]"
      ],
      "metadata": {
        "id": "-7waJ3ZoO3ox"
      },
      "execution_count": null,
      "outputs": []
    },
    {
      "cell_type": "code",
      "source": [
        "df.head()\n"
      ],
      "metadata": {
        "colab": {
          "base_uri": "https://localhost:8080/",
          "height": 206
        },
        "id": "_hJFU8ziO6fF",
        "outputId": "31c4a9f7-f543-4b62-d8f4-04e596c60f4f"
      },
      "execution_count": null,
      "outputs": [
        {
          "output_type": "execute_result",
          "data": {
            "text/plain": [
              "  buying  maint doors persons lug_boot safety  class\n",
              "0  vhigh  vhigh     2       2    small    low  unacc\n",
              "1  vhigh  vhigh     2       2    small    med  unacc\n",
              "2  vhigh  vhigh     2       2    small   high  unacc\n",
              "3  vhigh  vhigh     2       2      med    low  unacc\n",
              "4  vhigh  vhigh     2       2      med    med  unacc"
            ],
            "text/html": [
              "\n",
              "  <div id=\"df-fa5f32ef-fb88-4c2f-b9f8-b1bb7a5f4b99\" class=\"colab-df-container\">\n",
              "    <div>\n",
              "<style scoped>\n",
              "    .dataframe tbody tr th:only-of-type {\n",
              "        vertical-align: middle;\n",
              "    }\n",
              "\n",
              "    .dataframe tbody tr th {\n",
              "        vertical-align: top;\n",
              "    }\n",
              "\n",
              "    .dataframe thead th {\n",
              "        text-align: right;\n",
              "    }\n",
              "</style>\n",
              "<table border=\"1\" class=\"dataframe\">\n",
              "  <thead>\n",
              "    <tr style=\"text-align: right;\">\n",
              "      <th></th>\n",
              "      <th>buying</th>\n",
              "      <th>maint</th>\n",
              "      <th>doors</th>\n",
              "      <th>persons</th>\n",
              "      <th>lug_boot</th>\n",
              "      <th>safety</th>\n",
              "      <th>class</th>\n",
              "    </tr>\n",
              "  </thead>\n",
              "  <tbody>\n",
              "    <tr>\n",
              "      <th>0</th>\n",
              "      <td>vhigh</td>\n",
              "      <td>vhigh</td>\n",
              "      <td>2</td>\n",
              "      <td>2</td>\n",
              "      <td>small</td>\n",
              "      <td>low</td>\n",
              "      <td>unacc</td>\n",
              "    </tr>\n",
              "    <tr>\n",
              "      <th>1</th>\n",
              "      <td>vhigh</td>\n",
              "      <td>vhigh</td>\n",
              "      <td>2</td>\n",
              "      <td>2</td>\n",
              "      <td>small</td>\n",
              "      <td>med</td>\n",
              "      <td>unacc</td>\n",
              "    </tr>\n",
              "    <tr>\n",
              "      <th>2</th>\n",
              "      <td>vhigh</td>\n",
              "      <td>vhigh</td>\n",
              "      <td>2</td>\n",
              "      <td>2</td>\n",
              "      <td>small</td>\n",
              "      <td>high</td>\n",
              "      <td>unacc</td>\n",
              "    </tr>\n",
              "    <tr>\n",
              "      <th>3</th>\n",
              "      <td>vhigh</td>\n",
              "      <td>vhigh</td>\n",
              "      <td>2</td>\n",
              "      <td>2</td>\n",
              "      <td>med</td>\n",
              "      <td>low</td>\n",
              "      <td>unacc</td>\n",
              "    </tr>\n",
              "    <tr>\n",
              "      <th>4</th>\n",
              "      <td>vhigh</td>\n",
              "      <td>vhigh</td>\n",
              "      <td>2</td>\n",
              "      <td>2</td>\n",
              "      <td>med</td>\n",
              "      <td>med</td>\n",
              "      <td>unacc</td>\n",
              "    </tr>\n",
              "  </tbody>\n",
              "</table>\n",
              "</div>\n",
              "    <div class=\"colab-df-buttons\">\n",
              "\n",
              "  <div class=\"colab-df-container\">\n",
              "    <button class=\"colab-df-convert\" onclick=\"convertToInteractive('df-fa5f32ef-fb88-4c2f-b9f8-b1bb7a5f4b99')\"\n",
              "            title=\"Convert this dataframe to an interactive table.\"\n",
              "            style=\"display:none;\">\n",
              "\n",
              "  <svg xmlns=\"http://www.w3.org/2000/svg\" height=\"24px\" viewBox=\"0 -960 960 960\">\n",
              "    <path d=\"M120-120v-720h720v720H120Zm60-500h600v-160H180v160Zm220 220h160v-160H400v160Zm0 220h160v-160H400v160ZM180-400h160v-160H180v160Zm440 0h160v-160H620v160ZM180-180h160v-160H180v160Zm440 0h160v-160H620v160Z\"/>\n",
              "  </svg>\n",
              "    </button>\n",
              "\n",
              "  <style>\n",
              "    .colab-df-container {\n",
              "      display:flex;\n",
              "      gap: 12px;\n",
              "    }\n",
              "\n",
              "    .colab-df-convert {\n",
              "      background-color: #E8F0FE;\n",
              "      border: none;\n",
              "      border-radius: 50%;\n",
              "      cursor: pointer;\n",
              "      display: none;\n",
              "      fill: #1967D2;\n",
              "      height: 32px;\n",
              "      padding: 0 0 0 0;\n",
              "      width: 32px;\n",
              "    }\n",
              "\n",
              "    .colab-df-convert:hover {\n",
              "      background-color: #E2EBFA;\n",
              "      box-shadow: 0px 1px 2px rgba(60, 64, 67, 0.3), 0px 1px 3px 1px rgba(60, 64, 67, 0.15);\n",
              "      fill: #174EA6;\n",
              "    }\n",
              "\n",
              "    .colab-df-buttons div {\n",
              "      margin-bottom: 4px;\n",
              "    }\n",
              "\n",
              "    [theme=dark] .colab-df-convert {\n",
              "      background-color: #3B4455;\n",
              "      fill: #D2E3FC;\n",
              "    }\n",
              "\n",
              "    [theme=dark] .colab-df-convert:hover {\n",
              "      background-color: #434B5C;\n",
              "      box-shadow: 0px 1px 3px 1px rgba(0, 0, 0, 0.15);\n",
              "      filter: drop-shadow(0px 1px 2px rgba(0, 0, 0, 0.3));\n",
              "      fill: #FFFFFF;\n",
              "    }\n",
              "  </style>\n",
              "\n",
              "    <script>\n",
              "      const buttonEl =\n",
              "        document.querySelector('#df-fa5f32ef-fb88-4c2f-b9f8-b1bb7a5f4b99 button.colab-df-convert');\n",
              "      buttonEl.style.display =\n",
              "        google.colab.kernel.accessAllowed ? 'block' : 'none';\n",
              "\n",
              "      async function convertToInteractive(key) {\n",
              "        const element = document.querySelector('#df-fa5f32ef-fb88-4c2f-b9f8-b1bb7a5f4b99');\n",
              "        const dataTable =\n",
              "          await google.colab.kernel.invokeFunction('convertToInteractive',\n",
              "                                                    [key], {});\n",
              "        if (!dataTable) return;\n",
              "\n",
              "        const docLinkHtml = 'Like what you see? Visit the ' +\n",
              "          '<a target=\"_blank\" href=https://colab.research.google.com/notebooks/data_table.ipynb>data table notebook</a>'\n",
              "          + ' to learn more about interactive tables.';\n",
              "        element.innerHTML = '';\n",
              "        dataTable['output_type'] = 'display_data';\n",
              "        await google.colab.output.renderOutput(dataTable, element);\n",
              "        const docLink = document.createElement('div');\n",
              "        docLink.innerHTML = docLinkHtml;\n",
              "        element.appendChild(docLink);\n",
              "      }\n",
              "    </script>\n",
              "  </div>\n",
              "\n",
              "\n",
              "    <div id=\"df-cc5cfbe1-ba66-4c19-b8c2-1a9a0d1dca79\">\n",
              "      <button class=\"colab-df-quickchart\" onclick=\"quickchart('df-cc5cfbe1-ba66-4c19-b8c2-1a9a0d1dca79')\"\n",
              "                title=\"Suggest charts\"\n",
              "                style=\"display:none;\">\n",
              "\n",
              "<svg xmlns=\"http://www.w3.org/2000/svg\" height=\"24px\"viewBox=\"0 0 24 24\"\n",
              "     width=\"24px\">\n",
              "    <g>\n",
              "        <path d=\"M19 3H5c-1.1 0-2 .9-2 2v14c0 1.1.9 2 2 2h14c1.1 0 2-.9 2-2V5c0-1.1-.9-2-2-2zM9 17H7v-7h2v7zm4 0h-2V7h2v10zm4 0h-2v-4h2v4z\"/>\n",
              "    </g>\n",
              "</svg>\n",
              "      </button>\n",
              "\n",
              "<style>\n",
              "  .colab-df-quickchart {\n",
              "      --bg-color: #E8F0FE;\n",
              "      --fill-color: #1967D2;\n",
              "      --hover-bg-color: #E2EBFA;\n",
              "      --hover-fill-color: #174EA6;\n",
              "      --disabled-fill-color: #AAA;\n",
              "      --disabled-bg-color: #DDD;\n",
              "  }\n",
              "\n",
              "  [theme=dark] .colab-df-quickchart {\n",
              "      --bg-color: #3B4455;\n",
              "      --fill-color: #D2E3FC;\n",
              "      --hover-bg-color: #434B5C;\n",
              "      --hover-fill-color: #FFFFFF;\n",
              "      --disabled-bg-color: #3B4455;\n",
              "      --disabled-fill-color: #666;\n",
              "  }\n",
              "\n",
              "  .colab-df-quickchart {\n",
              "    background-color: var(--bg-color);\n",
              "    border: none;\n",
              "    border-radius: 50%;\n",
              "    cursor: pointer;\n",
              "    display: none;\n",
              "    fill: var(--fill-color);\n",
              "    height: 32px;\n",
              "    padding: 0;\n",
              "    width: 32px;\n",
              "  }\n",
              "\n",
              "  .colab-df-quickchart:hover {\n",
              "    background-color: var(--hover-bg-color);\n",
              "    box-shadow: 0 1px 2px rgba(60, 64, 67, 0.3), 0 1px 3px 1px rgba(60, 64, 67, 0.15);\n",
              "    fill: var(--button-hover-fill-color);\n",
              "  }\n",
              "\n",
              "  .colab-df-quickchart-complete:disabled,\n",
              "  .colab-df-quickchart-complete:disabled:hover {\n",
              "    background-color: var(--disabled-bg-color);\n",
              "    fill: var(--disabled-fill-color);\n",
              "    box-shadow: none;\n",
              "  }\n",
              "\n",
              "  .colab-df-spinner {\n",
              "    border: 2px solid var(--fill-color);\n",
              "    border-color: transparent;\n",
              "    border-bottom-color: var(--fill-color);\n",
              "    animation:\n",
              "      spin 1s steps(1) infinite;\n",
              "  }\n",
              "\n",
              "  @keyframes spin {\n",
              "    0% {\n",
              "      border-color: transparent;\n",
              "      border-bottom-color: var(--fill-color);\n",
              "      border-left-color: var(--fill-color);\n",
              "    }\n",
              "    20% {\n",
              "      border-color: transparent;\n",
              "      border-left-color: var(--fill-color);\n",
              "      border-top-color: var(--fill-color);\n",
              "    }\n",
              "    30% {\n",
              "      border-color: transparent;\n",
              "      border-left-color: var(--fill-color);\n",
              "      border-top-color: var(--fill-color);\n",
              "      border-right-color: var(--fill-color);\n",
              "    }\n",
              "    40% {\n",
              "      border-color: transparent;\n",
              "      border-right-color: var(--fill-color);\n",
              "      border-top-color: var(--fill-color);\n",
              "    }\n",
              "    60% {\n",
              "      border-color: transparent;\n",
              "      border-right-color: var(--fill-color);\n",
              "    }\n",
              "    80% {\n",
              "      border-color: transparent;\n",
              "      border-right-color: var(--fill-color);\n",
              "      border-bottom-color: var(--fill-color);\n",
              "    }\n",
              "    90% {\n",
              "      border-color: transparent;\n",
              "      border-bottom-color: var(--fill-color);\n",
              "    }\n",
              "  }\n",
              "</style>\n",
              "\n",
              "      <script>\n",
              "        async function quickchart(key) {\n",
              "          const quickchartButtonEl =\n",
              "            document.querySelector('#' + key + ' button');\n",
              "          quickchartButtonEl.disabled = true;  // To prevent multiple clicks.\n",
              "          quickchartButtonEl.classList.add('colab-df-spinner');\n",
              "          try {\n",
              "            const charts = await google.colab.kernel.invokeFunction(\n",
              "                'suggestCharts', [key], {});\n",
              "          } catch (error) {\n",
              "            console.error('Error during call to suggestCharts:', error);\n",
              "          }\n",
              "          quickchartButtonEl.classList.remove('colab-df-spinner');\n",
              "          quickchartButtonEl.classList.add('colab-df-quickchart-complete');\n",
              "        }\n",
              "        (() => {\n",
              "          let quickchartButtonEl =\n",
              "            document.querySelector('#df-cc5cfbe1-ba66-4c19-b8c2-1a9a0d1dca79 button');\n",
              "          quickchartButtonEl.style.display =\n",
              "            google.colab.kernel.accessAllowed ? 'block' : 'none';\n",
              "        })();\n",
              "      </script>\n",
              "    </div>\n",
              "\n",
              "    </div>\n",
              "  </div>\n"
            ],
            "application/vnd.google.colaboratory.intrinsic+json": {
              "type": "dataframe",
              "variable_name": "df",
              "summary": "{\n  \"name\": \"df\",\n  \"rows\": 1728,\n  \"fields\": [\n    {\n      \"column\": \"buying\",\n      \"properties\": {\n        \"dtype\": \"category\",\n        \"num_unique_values\": 4,\n        \"samples\": [\n          \"high\",\n          \"low\",\n          \"vhigh\"\n        ],\n        \"semantic_type\": \"\",\n        \"description\": \"\"\n      }\n    },\n    {\n      \"column\": \"maint\",\n      \"properties\": {\n        \"dtype\": \"category\",\n        \"num_unique_values\": 4,\n        \"samples\": [\n          \"high\",\n          \"low\",\n          \"vhigh\"\n        ],\n        \"semantic_type\": \"\",\n        \"description\": \"\"\n      }\n    },\n    {\n      \"column\": \"doors\",\n      \"properties\": {\n        \"dtype\": \"category\",\n        \"num_unique_values\": 4,\n        \"samples\": [\n          \"3\",\n          \"5more\",\n          \"2\"\n        ],\n        \"semantic_type\": \"\",\n        \"description\": \"\"\n      }\n    },\n    {\n      \"column\": \"persons\",\n      \"properties\": {\n        \"dtype\": \"category\",\n        \"num_unique_values\": 3,\n        \"samples\": [\n          \"2\",\n          \"4\",\n          \"more\"\n        ],\n        \"semantic_type\": \"\",\n        \"description\": \"\"\n      }\n    },\n    {\n      \"column\": \"lug_boot\",\n      \"properties\": {\n        \"dtype\": \"category\",\n        \"num_unique_values\": 3,\n        \"samples\": [\n          \"small\",\n          \"med\",\n          \"big\"\n        ],\n        \"semantic_type\": \"\",\n        \"description\": \"\"\n      }\n    },\n    {\n      \"column\": \"safety\",\n      \"properties\": {\n        \"dtype\": \"category\",\n        \"num_unique_values\": 3,\n        \"samples\": [\n          \"low\",\n          \"med\",\n          \"high\"\n        ],\n        \"semantic_type\": \"\",\n        \"description\": \"\"\n      }\n    },\n    {\n      \"column\": \"class\",\n      \"properties\": {\n        \"dtype\": \"category\",\n        \"num_unique_values\": 4,\n        \"samples\": [\n          \"acc\",\n          \"good\",\n          \"unacc\"\n        ],\n        \"semantic_type\": \"\",\n        \"description\": \"\"\n      }\n    }\n  ]\n}"
            }
          },
          "metadata": {},
          "execution_count": 16
        }
      ]
    },
    {
      "cell_type": "code",
      "source": [
        "from sklearn.preprocessing import LabelEncoder\n",
        "\n",
        "df_encoded = df.copy()\n",
        "encoders = {}\n",
        "\n",
        "for col in df_encoded.columns:\n",
        "    le = LabelEncoder()\n",
        "    df_encoded[col] = le.fit_transform(df_encoded[col])\n",
        "    encoders[col] = le"
      ],
      "metadata": {
        "id": "9Jr4ftsiO8zh"
      },
      "execution_count": null,
      "outputs": []
    },
    {
      "cell_type": "code",
      "source": [
        "from sklearn.model_selection import train_test_split\n",
        "\n",
        "X = df_encoded.drop(\"class\", axis=1)\n",
        "y = df_encoded[\"class\"]\n",
        "\n",
        "X_train, X_test, y_train, y_test = train_test_split(\n",
        "    X, y, test_size=0.2, random_state=42, stratify=y\n",
        ")\n",
        "\n",
        "print(f\"X_train: {X_train.shape}\")\n",
        "print(f\"X_test: {X_test.shape}\")"
      ],
      "metadata": {
        "colab": {
          "base_uri": "https://localhost:8080/"
        },
        "id": "GzzfFf3GO_Ar",
        "outputId": "bdf16c2e-6570-4d2d-dac7-6b2b44a0d645"
      },
      "execution_count": null,
      "outputs": [
        {
          "output_type": "stream",
          "name": "stdout",
          "text": [
            "X_train: (1382, 6)\n",
            "X_test: (346, 6)\n"
          ]
        }
      ]
    },
    {
      "cell_type": "markdown",
      "source": [
        "### 6.3 Considerações sobre validação cruzada\n",
        "\n",
        "A validação cruzada é uma técnica que permite avaliar a generalização de modelos em múltiplas divisões dos dados. No entanto, como nosso dataset é pequeno (1.728 instâncias) e faremos comparação entre modelos usando métricas consolidadas (accuracy, matriz de confusão, etc.), **não aplicaremos validação cruzada neste momento**.\n",
        "\n",
        "Além disso, a separação estratificada entre treino e teste já é suficiente para nossa análise inicial. Podemos aplicar cross-validation posteriormente, se necessário."
      ],
      "metadata": {
        "id": "Pr7qodtgPDXE"
      }
    },
    {
      "cell_type": "code",
      "source": [],
      "metadata": {
        "id": "PlV2rB4kPE4k"
      },
      "execution_count": null,
      "outputs": []
    },
    {
      "cell_type": "markdown",
      "source": [
        "### 6.4 Padronização dos dados\n",
        "\n",
        "\n",
        "Neste caso, como os algoritmos que utilizaremos inicialmente (como árvore de decisão e random forest) **não são sensíveis à escala** dos dados, a padronização **não é obrigatória**.\n",
        "\n",
        "Porém, para modelos como SVM, KNN e redes neurais, a padronização pode melhorar o desempenho. Por isso, vamos gerar uma **versão padronizada dos dados de treino e teste**, utilizando o `StandardScaler`.\n",
        "\n",
        "Essa versão padronizada será armazenada para uso futuro nos modelos que necessitarem."
      ],
      "metadata": {
        "id": "JXfBwpSFPG1K"
      }
    },
    {
      "cell_type": "code",
      "source": [],
      "metadata": {
        "id": "gc2NGybWPXX2"
      },
      "execution_count": null,
      "outputs": []
    },
    {
      "cell_type": "markdown",
      "source": [
        "## 7. Modelagem e Treinamento\n",
        "\n",
        "Com os dados prontos, partimos agora para o treinamento de modelos supervisionados de aprendizado de máquina. O objetivo é construir algoritmos capazes de aprender os padrões dos dados e classificar corretamente a aceitabilidade de um carro, com base em suas características técnicas.\n",
        "\n",
        "Nesta etapa, vamos:\n",
        "\n",
        "- Escolher os algoritmos mais apropriados para o problema;\n",
        "- Treinar os modelos com os dados de treino;\n",
        "- Avaliar o desempenho com base em métricas de classificação;\n",
        "- Comparar os modelos entre si para identificar a melhor abordagem."
      ],
      "metadata": {
        "id": "1bYexR34PaAB"
      }
    },
    {
      "cell_type": "code",
      "source": [],
      "metadata": {
        "id": "_ablXRO8PaPf"
      },
      "execution_count": null,
      "outputs": []
    },
    {
      "cell_type": "markdown",
      "source": [
        "### 7.1 Escolha dos algoritmos\n",
        "\n",
        "A seguir, utilizaremos quatro algoritmos clássicos para resolver o problema de classificação multiclasse:\n",
        "\n",
        "- **Decision Tree**: modelo explicável e eficaz para dados categóricos.\n",
        "- **Random Forest**: versão mais robusta da árvore de decisão, com melhor generalização.\n",
        "- **K-Nearest Neighbors (KNN)**: classificador baseado em distância, útil para avaliar comportamento local.\n",
        "- **Support Vector Machine (SVM)**: modelo poderoso para separação de classes, especialmente após padronização.\n",
        "\n",
        "Essa diversidade permite comparar diferentes abordagens (baseadas em árvore, distância e margem) para identificar a mais eficaz para o dataset em questão."
      ],
      "metadata": {
        "id": "R3AYkti4PdBR"
      }
    },
    {
      "cell_type": "code",
      "source": [
        "# Importação dos modelos e métricas\n",
        "from sklearn.tree import DecisionTreeClassifier\n",
        "from sklearn.ensemble import RandomForestClassifier\n",
        "from sklearn.neighbors import KNeighborsClassifier\n",
        "from sklearn.svm import SVC\n",
        "\n",
        "from sklearn.metrics import accuracy_score\n",
        "\n",
        "# Dicionário para armazenar os resultados\n",
        "resultados = {}"
      ],
      "metadata": {
        "id": "jZ_jf-NVPdTT"
      },
      "execution_count": null,
      "outputs": []
    },
    {
      "cell_type": "code",
      "source": [],
      "metadata": {
        "id": "n2Col4ztPer9"
      },
      "execution_count": null,
      "outputs": []
    },
    {
      "cell_type": "markdown",
      "source": [
        "### 7.2 Modelo 1: Decision Tree\n",
        "\n",
        "A Árvore de Decisão é uma escolha natural para este tipo de problema, já que trabalha muito bem com variáveis categóricas e é fácil de interpretar. Vamos utilizá-la como nosso **modelo baseline**."
      ],
      "metadata": {
        "id": "WPK35kKPPhqq"
      }
    },
    {
      "cell_type": "code",
      "source": [
        "# Instanciando e treinando\n",
        "dt = DecisionTreeClassifier(random_state=42)\n",
        "dt.fit(X_train, y_train)\n",
        "\n",
        "# Predição e avaliação\n",
        "y_pred_dt = dt.predict(X_test)\n",
        "acc_dt = accuracy_score(y_test, y_pred_dt)\n",
        "resultados[\"Decision Tree\"] = acc_dt\n",
        "\n",
        "print(f\"Acurácia - Decision Tree: {acc_dt:.4f}\")"
      ],
      "metadata": {
        "colab": {
          "base_uri": "https://localhost:8080/"
        },
        "id": "D-4YhkhkPh3U",
        "outputId": "5c2cae60-72d7-4b80-ff55-e85070ee840d"
      },
      "execution_count": null,
      "outputs": [
        {
          "output_type": "stream",
          "name": "stdout",
          "text": [
            "Acurácia - Decision Tree: 0.9855\n"
          ]
        }
      ]
    },
    {
      "cell_type": "code",
      "source": [],
      "metadata": {
        "id": "LmekUgPKPjHK"
      },
      "execution_count": null,
      "outputs": []
    },
    {
      "cell_type": "markdown",
      "source": [
        "### 7.3 Modelo 2: Random Forest\n",
        "\n",
        "O Random Forest é um conjunto de múltiplas árvores de decisão, agregadas por votação. Ele tende a reduzir o overfitting e melhorar a performance em relação à árvore simples"
      ],
      "metadata": {
        "id": "iwvnbkPyPlcl"
      }
    },
    {
      "cell_type": "code",
      "source": [
        "rf = RandomForestClassifier(n_estimators=100, random_state=42)\n",
        "rf.fit(X_train, y_train)\n",
        "\n",
        "y_pred_rf = rf.predict(X_test)\n",
        "acc_rf = accuracy_score(y_test, y_pred_rf)\n",
        "resultados[\"Random Forest\"] = acc_rf\n",
        "\n",
        "print(f\"Acurácia - Random Forest: {acc_rf:.4f}\")"
      ],
      "metadata": {
        "colab": {
          "base_uri": "https://localhost:8080/"
        },
        "id": "XWSlrEkUPl95",
        "outputId": "5e265052-3861-4bd9-c33d-4e7ddb17b116"
      },
      "execution_count": null,
      "outputs": [
        {
          "output_type": "stream",
          "name": "stdout",
          "text": [
            "Acurácia - Random Forest: 0.9827\n"
          ]
        }
      ]
    },
    {
      "cell_type": "code",
      "source": [],
      "metadata": {
        "id": "Jvm9tTJpPoVU"
      },
      "execution_count": null,
      "outputs": []
    },
    {
      "cell_type": "markdown",
      "source": [
        "### 7.4 Modelo 3: K-Nearest Neighbors (KNN)\n",
        "\n",
        "O algoritmo KNN classifica as instâncias com base nos exemplos mais próximos no conjunto de treinamento. Como é sensível à escala dos dados, usaremos a versão **padronizada** do conjunto de dados."
      ],
      "metadata": {
        "id": "zxnl2s8RPqFd"
      }
    },
    {
      "cell_type": "code",
      "source": [
        "knn = KNeighborsClassifier(n_neighbors=5)\n",
        "knn.fit(X_train, y_train)\n",
        "\n",
        "y_pred_knn = knn.predict(X_test)\n",
        "acc_knn = accuracy_score(y_test, y_pred_knn)\n",
        "resultados[\"KNN\"] = acc_knn\n",
        "\n",
        "print(f\"Acurácia - KNN: {acc_knn:.4f}\")"
      ],
      "metadata": {
        "colab": {
          "base_uri": "https://localhost:8080/"
        },
        "id": "cxet7-uxPqPw",
        "outputId": "68154a73-43ee-4756-e7f6-cb801d97f60f"
      },
      "execution_count": null,
      "outputs": [
        {
          "output_type": "stream",
          "name": "stdout",
          "text": [
            "Acurácia - KNN: 0.9104\n"
          ]
        }
      ]
    },
    {
      "cell_type": "code",
      "source": [],
      "metadata": {
        "id": "9rjgFL0YPrSm"
      },
      "execution_count": null,
      "outputs": []
    },
    {
      "cell_type": "markdown",
      "source": [
        "### 7.5 Modelo 4: Support Vector Machine (SVM)\n",
        "\n",
        "O SVM é um modelo eficaz para classificação multiclasse, especialmente quando os dados são padronizados. Apesar de ser mais custoso computacionalmente, costuma apresentar bons resultados em problemas com poucas amostras."
      ],
      "metadata": {
        "id": "-M7edljhP-c3"
      }
    },
    {
      "cell_type": "code",
      "source": [
        "svm = SVC(kernel=\"rbf\", random_state=42)\n",
        "svm.fit(X_train, y_train)\n",
        "\n",
        "y_pred_svm = svm.predict(X_test)\n",
        "acc_svm = accuracy_score(y_test, y_pred_svm)\n",
        "resultados[\"SVM\"] = acc_svm\n",
        "\n",
        "print(f\"Acurácia - SVM: {acc_svm:.4f}\")"
      ],
      "metadata": {
        "colab": {
          "base_uri": "https://localhost:8080/"
        },
        "id": "v-7WpGqZP-r8",
        "outputId": "29d548f1-de87-47c3-9405-ae653346f5bb"
      },
      "execution_count": null,
      "outputs": [
        {
          "output_type": "stream",
          "name": "stdout",
          "text": [
            "Acurácia - SVM: 0.9277\n"
          ]
        }
      ]
    },
    {
      "cell_type": "code",
      "source": [],
      "metadata": {
        "id": "LF3NWnx3P_8B"
      },
      "execution_count": null,
      "outputs": []
    },
    {
      "cell_type": "markdown",
      "source": [
        "### 7.6 Comparação dos modelos\n",
        "\n",
        "A seguir, comparamos a acurácia dos modelos treinados para verificar qual apresentou o melhor desempenho no conjunto de teste."
      ],
      "metadata": {
        "id": "SkKmR78rQEAz"
      }
    },
    {
      "cell_type": "code",
      "source": [
        "# Visualização dos resultados\n",
        "for modelo, acc in resultados.items():\n",
        "    print(f\"{modelo}: Acurácia = {acc:.4f}\")"
      ],
      "metadata": {
        "colab": {
          "base_uri": "https://localhost:8080/"
        },
        "id": "5xu4DdgwQEKq",
        "outputId": "4fd9e9a4-8f09-4194-e2e5-0a09eac2860b"
      },
      "execution_count": null,
      "outputs": [
        {
          "output_type": "stream",
          "name": "stdout",
          "text": [
            "Decision Tree: Acurácia = 0.9855\n",
            "Random Forest: Acurácia = 0.9827\n",
            "KNN: Acurácia = 0.9104\n",
            "SVM: Acurácia = 0.9277\n"
          ]
        }
      ]
    },
    {
      "cell_type": "code",
      "source": [],
      "metadata": {
        "id": "7wN2puHcQFC3"
      },
      "execution_count": null,
      "outputs": []
    },
    {
      "cell_type": "markdown",
      "source": [
        "## 8. Otimização de Hiperparâmetros\n",
        "\n",
        "Após treinar os modelos com seus parâmetros padrão, é possível melhorar seu desempenho ajustando os **hiperparâmetros**, que controlam o comportamento do algoritmo durante o aprendizado.\n",
        "\n",
        "Vamos utilizar a técnica `GridSearchCV` com validação cruzada estratificada para testar diferentes combinações de hiperparâmetros e selecionar a que obtiver melhor desempenho em validação.\n",
        "\n",
        "Realizaremos a otimização para os seguintes modelos:\n",
        "\n",
        "- **Random Forest**\n",
        "- **KNN**\n",
        "- **SVM**"
      ],
      "metadata": {
        "id": "LspNu72nQTNQ"
      }
    },
    {
      "cell_type": "code",
      "source": [],
      "metadata": {
        "id": "DUP5eLpxQTZY"
      },
      "execution_count": null,
      "outputs": []
    },
    {
      "cell_type": "markdown",
      "source": [
        "### 8.1 Random Forest\n",
        "\n",
        "Os principais hiperparâmetros que podem afetar o desempenho do Random Forest são:\n",
        "\n",
        "- `n_estimators`: número de árvores na floresta;\n",
        "- `max_depth`: profundidade máxima de cada árvore;\n",
        "- `min_samples_split`: número mínimo de amostras para dividir um nó.\n",
        "\n",
        "Vamos testar algumas combinações para encontrar o melhor modelo."
      ],
      "metadata": {
        "id": "mlo4RbUMQh1d"
      }
    },
    {
      "cell_type": "code",
      "source": [
        "from sklearn.model_selection import GridSearchCV\n",
        "\n",
        "# Definindo a grade de parâmetros\n",
        "param_grid_rf = {\n",
        "    'n_estimators': [50, 100, 200],\n",
        "    'max_depth': [None, 5, 10],\n",
        "    'min_samples_split': [2, 5, 10]\n",
        "}\n",
        "\n",
        "# Instanciando o modelo base\n",
        "rf_base = RandomForestClassifier(random_state=42)\n",
        "\n",
        "# Grid Search com 5-fold cross-validation\n",
        "grid_rf = GridSearchCV(estimator=rf_base, param_grid=param_grid_rf,\n",
        "                       cv=5, scoring='accuracy', n_jobs=-1)\n",
        "\n",
        "grid_rf.fit(X_train, y_train)\n",
        "\n",
        "print(\"Melhores parâmetros para Random Forest:\")\n",
        "print(grid_rf.best_params_)\n",
        "print(f\"Acurácia em validação cruzada: {grid_rf.best_score_:.4f}\")"
      ],
      "metadata": {
        "colab": {
          "base_uri": "https://localhost:8080/"
        },
        "id": "doXDjmqgQiAX",
        "outputId": "3b09e824-9098-4f68-bdb1-6f96c0e47c3d"
      },
      "execution_count": null,
      "outputs": [
        {
          "output_type": "stream",
          "name": "stdout",
          "text": [
            "Melhores parâmetros para Random Forest:\n",
            "{'max_depth': None, 'min_samples_split': 2, 'n_estimators': 200}\n",
            "Acurácia em validação cruzada: 0.9645\n"
          ]
        }
      ]
    },
    {
      "cell_type": "code",
      "source": [],
      "metadata": {
        "id": "0nfoJ4pNQi_6"
      },
      "execution_count": null,
      "outputs": []
    },
    {
      "cell_type": "markdown",
      "source": [
        "### 8.2 K-Nearest Neighbors\n",
        "\n",
        "O principal hiperparâmetro do KNN é:\n",
        "\n",
        "- `n_neighbors`: número de vizinhos mais próximos a considerar.\n",
        "\n",
        "Vamos testar diferentes valores e observar qual produz melhores resultados. Lembre-se que o KNN será aplicado com os dados **padronizados**."
      ],
      "metadata": {
        "id": "o1OS8gyjQyzp"
      }
    },
    {
      "cell_type": "code",
      "source": [
        "param_grid_knn = {\n",
        "    'n_neighbors': [3, 5, 7, 9]\n",
        "}\n",
        "\n",
        "knn_base = KNeighborsClassifier()\n",
        "\n",
        "grid_knn = GridSearchCV(estimator=knn_base, param_grid=param_grid_knn,\n",
        "                        cv=5, scoring='accuracy', n_jobs=-1)\n",
        "\n",
        "grid_knn.fit(X_train, y_train)\n",
        "\n",
        "print(\"Melhor número de vizinhos (KNN):\")\n",
        "print(grid_knn.best_params_)\n",
        "print(f\"Acurácia em validação cruzada: {grid_knn.best_score_:.4f}\")"
      ],
      "metadata": {
        "colab": {
          "base_uri": "https://localhost:8080/"
        },
        "id": "myNfkowtQzDq",
        "outputId": "2bc32337-805a-441d-8521-518948a696da"
      },
      "execution_count": null,
      "outputs": [
        {
          "output_type": "stream",
          "name": "stdout",
          "text": [
            "Melhor número de vizinhos (KNN):\n",
            "{'n_neighbors': 7}\n",
            "Acurácia em validação cruzada: 0.8994\n"
          ]
        }
      ]
    },
    {
      "cell_type": "markdown",
      "source": [
        "### 8.3 Support Vector Machine\n",
        "\n",
        "No caso da SVM, os principais hiperparâmetros a otimizar são:\n",
        "\n",
        "- `C`: controla a penalidade de margem (quanto maior, mais complexa a fronteira);\n",
        "- `gamma`: define a influência de um ponto de treino na curva de decisão.\n",
        "\n",
        "Vamos buscar a melhor combinação com a função de kernel `rbf` padrão."
      ],
      "metadata": {
        "id": "i90_LlivQ8hy"
      }
    },
    {
      "cell_type": "code",
      "source": [
        "param_grid_svm = {\n",
        "    'C': [0.1, 1, 10],\n",
        "    'gamma': ['scale', 0.01, 0.001]\n",
        "}\n",
        "\n",
        "svm_base = SVC(kernel='rbf', random_state=42)\n",
        "\n",
        "grid_svm = GridSearchCV(estimator=svm_base, param_grid=param_grid_svm,\n",
        "                        cv=5, scoring='accuracy', n_jobs=-1)\n",
        "\n",
        "grid_svm.fit(X_train, y_train)\n",
        "\n",
        "print(\"Melhores parâmetros para SVM:\")\n",
        "print(grid_svm.best_params_)\n",
        "print(f\"Acurácia em validação cruzada: {grid_svm.best_score_:.4f}\")"
      ],
      "metadata": {
        "colab": {
          "base_uri": "https://localhost:8080/"
        },
        "id": "0f74VTplQ9jE",
        "outputId": "bc5844ec-295c-42a9-e7d7-92d919122ce3"
      },
      "execution_count": null,
      "outputs": [
        {
          "output_type": "stream",
          "name": "stdout",
          "text": [
            "Melhores parâmetros para SVM:\n",
            "{'C': 10, 'gamma': 'scale'}\n",
            "Acurácia em validação cruzada: 0.9819\n"
          ]
        }
      ]
    },
    {
      "cell_type": "markdown",
      "source": [
        "### 8.4 Decision Tree - Otimização\n",
        "\n",
        "Apesar de ser nosso modelo baseline, também vamos aplicar a técnica de otimização por `GridSearchCV` na Árvore de Decisão, buscando melhores combinações de hiperparâmetros:\n",
        "\n",
        "- `criterion`: função de impureza (Gini ou Entropia);\n",
        "- `max_depth`: profundidade máxima da árvore;\n",
        "- `min_samples_split`: mínimo de amostras para dividir um nó.\n",
        "\n",
        "Essa otimização permite extrair o máximo desempenho possível mesmo de um modelo simples."
      ],
      "metadata": {
        "id": "LfpzJU_qSH8Z"
      }
    },
    {
      "cell_type": "code",
      "source": [
        "# Grid de hiperparâmetros\n",
        "param_grid_dt = {\n",
        "    'criterion': ['gini', 'entropy'],\n",
        "    'max_depth': [None, 5, 10],\n",
        "    'min_samples_split': [2, 5, 10]\n",
        "}\n",
        "\n",
        "# Modelo base\n",
        "from sklearn.tree import DecisionTreeClassifier\n",
        "dt_base = DecisionTreeClassifier(random_state=42)\n",
        "\n",
        "# GridSearchCV com 5-fold cross-validation\n",
        "from sklearn.model_selection import GridSearchCV\n",
        "grid_dt = GridSearchCV(estimator=dt_base, param_grid=param_grid_dt,\n",
        "                       cv=5, scoring='accuracy', n_jobs=-1)\n",
        "\n",
        "# Treinando\n",
        "grid_dt.fit(X_train, y_train)\n",
        "\n",
        "# Resultados\n",
        "print(\"Melhores parâmetros para Decision Tree:\")\n",
        "print(grid_dt.best_params_)\n",
        "print(f\"Acurácia em validação cruzada: {grid_dt.best_score_:.4f}\")"
      ],
      "metadata": {
        "colab": {
          "base_uri": "https://localhost:8080/"
        },
        "id": "vIuSo9WpSMSA",
        "outputId": "86ce72f3-3f01-4093-82be-9f9e6404d845"
      },
      "execution_count": null,
      "outputs": [
        {
          "output_type": "stream",
          "name": "stdout",
          "text": [
            "Melhores parâmetros para Decision Tree:\n",
            "{'criterion': 'entropy', 'max_depth': None, 'min_samples_split': 2}\n",
            "Acurácia em validação cruzada: 0.9790\n"
          ]
        }
      ]
    },
    {
      "cell_type": "markdown",
      "source": [
        "### 8.5 Conclusão da Otimização\n",
        "\n",
        "Após os ajustes com `GridSearchCV`, obtivemos os melhores conjuntos de hiperparâmetros para cada modelo.\n",
        "\n",
        "Esses modelos otimizados serão utilizados na próxima etapa para:\n",
        "\n",
        "- Avaliar desempenho final nos dados de teste;\n",
        "- Comparar métricas com os modelos default;\n",
        "- Analisar matrizes de confusão e relatórios de classificação."
      ],
      "metadata": {
        "id": "agPSplNjRGOY"
      }
    },
    {
      "cell_type": "code",
      "source": [],
      "metadata": {
        "id": "gS4jfr2rRGgE"
      },
      "execution_count": null,
      "outputs": []
    },
    {
      "cell_type": "markdown",
      "source": [
        "## 9. Avaliação Final dos Modelos\n",
        "\n",
        "Com os modelos treinados e otimizados, agora avaliamos seus desempenhos finais no **conjunto de teste**, que simula dados \"nunca vistos\".\n",
        "\n",
        "Usaremos métricas clássicas de classificação multiclasse, como:\n",
        "\n",
        "- **Acurácia**: taxa global de acertos;\n",
        "- **Precision, Recall, F1-score**: mais detalhadas por classe;\n",
        "- **Matriz de Confusão**: mostra onde o modelo está errando.\n",
        "\n",
        "Essas análises nos ajudarão a escolher o melhor modelo para o problema."
      ],
      "metadata": {
        "id": "h_XIMyPPRYbg"
      }
    },
    {
      "cell_type": "code",
      "source": [
        "from sklearn.metrics import classification_report, confusion_matrix, ConfusionMatrixDisplay\n",
        "import matplotlib.pyplot as plt"
      ],
      "metadata": {
        "id": "SWNcMhqTRYnI"
      },
      "execution_count": null,
      "outputs": []
    },
    {
      "cell_type": "code",
      "source": [],
      "metadata": {
        "id": "3J4joWF0RaRg"
      },
      "execution_count": null,
      "outputs": []
    },
    {
      "cell_type": "markdown",
      "source": [
        "### 9.1 Função de Avaliação\n",
        "\n",
        "Para evitar repetição de código, criaremos uma função que:\n",
        "\n",
        "- Calcula as métricas principais;\n",
        "- Plota a matriz de confusão;\n",
        "- Exibe o relatório por classe."
      ],
      "metadata": {
        "id": "zGiuodI6RcbN"
      }
    },
    {
      "cell_type": "code",
      "source": [
        "def avaliar_modelo(modelo, X_test, y_test, nome_modelo):\n",
        "    y_pred = modelo.predict(X_test)\n",
        "\n",
        "    print(f\"\\n===== {nome_modelo} =====\")\n",
        "    print(\"Acurácia:\", accuracy_score(y_test, y_pred))\n",
        "    print(\"\\nClassification Report:\\n\", classification_report(y_test, y_pred))\n",
        "\n",
        "    cm = confusion_matrix(y_test, y_pred)\n",
        "    disp = ConfusionMatrixDisplay(confusion_matrix=cm)\n",
        "    disp.plot(cmap='Blues')\n",
        "    plt.title(f\"Matriz de Confusão - {nome_modelo}\")\n",
        "    plt.show()"
      ],
      "metadata": {
        "id": "TRYkDix6RckT"
      },
      "execution_count": null,
      "outputs": []
    },
    {
      "cell_type": "code",
      "source": [
        "# Decision Tree\n",
        "avaliar_modelo(grid_dt.best_estimator_, X_test, y_test, \"Decision Tree\")\n",
        "\n",
        "# Random Forest\n",
        "avaliar_modelo(grid_rf.best_estimator_, X_test, y_test, \"Random Forest\")\n",
        "\n",
        "# KNN (com dados padronizados)\n",
        "avaliar_modelo(grid_knn.best_estimator_, X_test_scaled, y_test, \"KNN\")\n",
        "\n",
        "# SVM (com dados padronizados)\n",
        "avaliar_modelo(grid_svm.best_estimator_, X_test_scaled, y_test, \"SVM\")"
      ],
      "metadata": {
        "colab": {
          "base_uri": "https://localhost:8080/",
          "height": 1000
        },
        "id": "fYyccG_EReJL",
        "outputId": "4f538818-5a86-4c05-c28e-648d6a63edd5"
      },
      "execution_count": null,
      "outputs": [
        {
          "output_type": "stream",
          "name": "stdout",
          "text": [
            "\n",
            "===== Decision Tree =====\n",
            "Acurácia: 0.9797687861271677\n",
            "\n",
            "Classification Report:\n",
            "               precision    recall  f1-score   support\n",
            "\n",
            "           0       0.96      0.96      0.96        77\n",
            "           1       0.82      1.00      0.90        14\n",
            "           2       1.00      1.00      1.00       242\n",
            "           3       1.00      0.77      0.87        13\n",
            "\n",
            "    accuracy                           0.98       346\n",
            "   macro avg       0.95      0.93      0.93       346\n",
            "weighted avg       0.98      0.98      0.98       346\n",
            "\n"
          ]
        },
        {
          "output_type": "display_data",
          "data": {
            "text/plain": [
              "<Figure size 640x480 with 2 Axes>"
            ],
            "image/png": "[encoded data removed]"
          },
          "metadata": {}
        },
        {
          "output_type": "stream",
          "name": "stdout",
          "text": [
            "\n",
            "===== Random Forest =====\n",
            "Acurácia: 0.9797687861271677\n",
            "\n",
            "Classification Report:\n",
            "               precision    recall  f1-score   support\n",
            "\n",
            "           0       0.97      0.94      0.95        77\n",
            "           1       0.93      0.93      0.93        14\n",
            "           2       0.98      1.00      0.99       242\n",
            "           3       1.00      0.92      0.96        13\n",
            "\n",
            "    accuracy                           0.98       346\n",
            "   macro avg       0.97      0.95      0.96       346\n",
            "weighted avg       0.98      0.98      0.98       346\n",
            "\n"
          ]
        },
        {
          "output_type": "display_data",
          "data": {
            "text/plain": [
              "<Figure size 640x480 with 2 Axes>"
            ],
            "image/png": "[encoded data removed]"
          },
          "metadata": {}
        },
        {
          "output_type": "stream",
          "name": "stdout",
          "text": [
            "\n",
            "===== KNN =====\n",
            "Acurácia: 0.6560693641618497\n",
            "\n",
            "Classification Report:\n",
            "               precision    recall  f1-score   support\n",
            "\n",
            "           0       0.32      0.23      0.27        77\n",
            "           1       0.00      0.00      0.00        14\n",
            "           2       0.74      0.86      0.80       242\n",
            "           3       0.00      0.00      0.00        13\n",
            "\n",
            "    accuracy                           0.66       346\n",
            "   macro avg       0.26      0.27      0.27       346\n",
            "weighted avg       0.59      0.66      0.62       346\n",
            "\n"
          ]
        },
        {
          "output_type": "stream",
          "name": "stderr",
          "text": [
            "/usr/local/lib/python3.12/dist-packages/sklearn/utils/validation.py:2739: UserWarning: X does not have valid feature names, but KNeighborsClassifier was fitted with feature names\n",
            "  warnings.warn(\n"
          ]
        },
        {
          "output_type": "display_data",
          "data": {
            "text/plain": [
              "<Figure size 640x480 with 2 Axes>"
            ],
            "image/png": "[encoded data removed]"
          },
          "metadata": {}
        },
        {
          "output_type": "stream",
          "name": "stdout",
          "text": [
            "\n",
            "===== SVM =====\n",
            "Acurácia: 0.7254335260115607\n",
            "\n",
            "Classification Report:\n",
            "               precision    recall  f1-score   support\n",
            "\n",
            "           0       0.50      0.45      0.48        77\n",
            "           1       0.00      0.00      0.00        14\n",
            "           2       0.80      0.89      0.85       242\n",
            "           3       0.00      0.00      0.00        13\n",
            "\n",
            "    accuracy                           0.73       346\n",
            "   macro avg       0.33      0.34      0.33       346\n",
            "weighted avg       0.67      0.73      0.70       346\n",
            "\n"
          ]
        },
        {
          "output_type": "stream",
          "name": "stderr",
          "text": [
            "/usr/local/lib/python3.12/dist-packages/sklearn/utils/validation.py:2739: UserWarning: X does not have valid feature names, but SVC was fitted with feature names\n",
            "  warnings.warn(\n"
          ]
        },
        {
          "output_type": "display_data",
          "data": {
            "text/plain": [
              "<Figure size 640x480 with 2 Axes>"
            ],
            "image/png": "[encoded data removed]"
          },
          "metadata": {}
        }
      ]
    },
    {
      "cell_type": "code",
      "source": [
        "from sklearn.preprocessing import StandardScaler\n",
        "\n",
        "# Instancia o scaler\n",
        "scaler = StandardScaler()\n",
        "\n",
        "# Aplica a transformação apenas em X (não em y)\n",
        "X_train_scaled = scaler.fit_transform(X_train)\n",
        "X_test_scaled = scaler.transform(X_test)"
      ],
      "metadata": {
        "id": "QmvqGGFDRg4h"
      },
      "execution_count": null,
      "outputs": []
    },
    {
      "cell_type": "markdown",
      "source": [
        "## 11. Conclusão\n",
        "\n",
        "###  Síntese do trabalho\n",
        "\n",
        "Neste projeto, desenvolvemos um MVP completo de um sistema de suporte à decisão utilizando técnicas de aprendizado de máquina supervisionado para resolver um problema de classificação multiclasse. O conjunto de dados utilizado foi o **Car Evaluation Dataset**, com 1.728 registros categóricos sobre especificações técnicas de veículos e sua aceitabilidade final.\n",
        "\n",
        "Aplicamos as seguintes etapas com sucesso:\n",
        "\n",
        "- Carga e exploração inicial dos dados;\n",
        "- Codificação adequada das variáveis categóricas;\n",
        "- Separação entre treino e teste com estratificação;\n",
        "- Padronização dos dados para modelos sensíveis à escala;\n",
        "- Treinamento de quatro algoritmos (Decision Tree, Random Forest, KNN e SVM);\n",
        "- Otimização dos hiperparâmetros via `GridSearchCV`;\n",
        "- Avaliação final com métricas completas e comparação de desempenho.\n",
        "\n",
        "---\n",
        "\n",
        "###  Lições aprendidas\n",
        "\n",
        "- A preparação adequada dos dados é tão importante quanto a modelagem em si;\n",
        "- Nem sempre o modelo mais complexo é o melhor — em alguns casos, modelos simples como **árvores de decisão** já apresentam ótimo desempenho;\n",
        "- A escolha dos hiperparâmetros influencia diretamente os resultados, e técnicas como validação cruzada ajudam a tornar a análise mais confiável;\n",
        "- A padronização dos dados é essencial para algoritmos como KNN e SVM.\n",
        "\n",
        "---\n",
        "\n",
        "###  Limitações\n",
        "\n",
        "- O dataset utilizado é relativamente pequeno e equilibrado, o que facilita o trabalho, mas pode não refletir a complexidade de bases reais;\n",
        "- Todas as variáveis são categóricas e com cardinalidade baixa, limitando a aplicação de técnicas mais avançadas de engenharia de atributos;\n",
        "- Não aplicamos técnicas de análise de erro aprofundadas (ex: SHAP, LIME), que seriam interessantes para aplicações reais.\n",
        "\n",
        "---\n",
        "\n",
        "###  Sugestões de melhoria\n",
        "\n",
        "- Incluir mais modelos (ex: XGBoost, LightGBM) para comparação;\n",
        "- Realizar análise de sensibilidade das variáveis preditoras;\n",
        "- Aplicar técnicas de **explainability** para entender o impacto de cada variável na decisão do modelo;\n",
        "- Testar em um cenário real (ex: locadora de veículos, concessionária) com dados mais robustos.\n",
        "\n",
        "---\n",
        "\n",
        "###  Conclusão final\n",
        "\n",
        "O trabalho cumpriu os requisitos do MVP proposto, com todas as etapas documentadas, explicadas e executadas com boas práticas de ciência de dados. O modelo final selecionado poderá ser utilizado como base para uma aplicação mais ampla em problemas de recomendação ou classificação de produtos, veículos ou perfis de clientes."
      ],
      "metadata": {
        "id": "B5uz04E7TEYZ"
      }
    },
    {
      "cell_type": "code",
      "source": [],
      "metadata": {
        "id": "TpRMe013TEmn"
      },
      "execution_count": null,
      "outputs": []
    }
  ]
}